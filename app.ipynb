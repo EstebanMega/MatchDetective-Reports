{
 "cells": [
  {
   "cell_type": "code",
   "execution_count": 4,
   "metadata": {},
   "outputs": [
    {
     "name": "stdout",
     "output_type": "stream",
     "text": [
      "<Response [200]>\n"
     ]
    },
    {
     "data": {
      "text/html": [
       "<div>\n",
       "<style scoped>\n",
       "    .dataframe tbody tr th:only-of-type {\n",
       "        vertical-align: middle;\n",
       "    }\n",
       "\n",
       "    .dataframe tbody tr th {\n",
       "        vertical-align: top;\n",
       "    }\n",
       "\n",
       "    .dataframe thead th {\n",
       "        text-align: right;\n",
       "    }\n",
       "</style>\n",
       "<table border=\"1\" class=\"dataframe\">\n",
       "  <thead>\n",
       "    <tr style=\"text-align: right;\">\n",
       "      <th></th>\n",
       "      <th>event_time</th>\n",
       "      <th>client_country</th>\n",
       "      <th>date</th>\n",
       "      <th>install_date</th>\n",
       "      <th>progress_id</th>\n",
       "      <th>retention_day</th>\n",
       "      <th>transaction_id</th>\n",
       "      <th>price</th>\n",
       "      <th>local_currency_code</th>\n",
       "      <th>local_revenue_gross</th>\n",
       "      <th>ab_test_variants</th>\n",
       "      <th>revenue_usd</th>\n",
       "    </tr>\n",
       "  </thead>\n",
       "  <tbody>\n",
       "    <tr>\n",
       "      <th>560</th>\n",
       "      <td>2024-01-24 17:04:35.668000+00:00</td>\n",
       "      <td>US</td>\n",
       "      <td>2024-01-24</td>\n",
       "      <td>2024-01-16</td>\n",
       "      <td>c35eb330-fa98-42d7-8dcf-ccc514f0be9a</td>\n",
       "      <td>8</td>\n",
       "      <td>GPA.3379-2730-4958-46261</td>\n",
       "      <td>0.99</td>\n",
       "      <td>USD</td>\n",
       "      <td>0.99</td>\n",
       "      <td>No AB Test</td>\n",
       "      <td>0.990000</td>\n",
       "    </tr>\n",
       "    <tr>\n",
       "      <th>865</th>\n",
       "      <td>2024-02-18 22:58:10.262000+00:00</td>\n",
       "      <td>US</td>\n",
       "      <td>2024-02-18</td>\n",
       "      <td>2024-02-04</td>\n",
       "      <td>eae86baa-6757-48bf-938b-e811017c4a32</td>\n",
       "      <td>14</td>\n",
       "      <td>GPA.3373-5613-4289-36897</td>\n",
       "      <td>1.99</td>\n",
       "      <td>USD</td>\n",
       "      <td>1.99</td>\n",
       "      <td>Variant A</td>\n",
       "      <td>1.990000</td>\n",
       "    </tr>\n",
       "    <tr>\n",
       "      <th>464</th>\n",
       "      <td>2024-01-16 03:12:59.704000+00:00</td>\n",
       "      <td>US</td>\n",
       "      <td>2024-01-16</td>\n",
       "      <td>2024-01-09</td>\n",
       "      <td>4e7b57c4-8b10-48c7-885c-dae754f1d03d</td>\n",
       "      <td>7</td>\n",
       "      <td>GPA.3376-9185-1761-89916</td>\n",
       "      <td>1.99</td>\n",
       "      <td>USD</td>\n",
       "      <td>1.99</td>\n",
       "      <td>No AB Test</td>\n",
       "      <td>1.990000</td>\n",
       "    </tr>\n",
       "    <tr>\n",
       "      <th>361</th>\n",
       "      <td>2024-01-09 02:47:00.784000+00:00</td>\n",
       "      <td>US</td>\n",
       "      <td>2024-01-09</td>\n",
       "      <td>2024-01-06</td>\n",
       "      <td>ad97cb4e-b047-4f66-ac1b-44eb2e0b764e</td>\n",
       "      <td>3</td>\n",
       "      <td>GPA.3365-2778-5045-51231</td>\n",
       "      <td>3.49</td>\n",
       "      <td>USD</td>\n",
       "      <td>3.49</td>\n",
       "      <td>No AB Test</td>\n",
       "      <td>3.490000</td>\n",
       "    </tr>\n",
       "    <tr>\n",
       "      <th>113</th>\n",
       "      <td>2023-11-08 09:35:56.881000+00:00</td>\n",
       "      <td>NL</td>\n",
       "      <td>2023-11-08</td>\n",
       "      <td>2023-11-04</td>\n",
       "      <td>11ffe36a-5aa1-423b-8004-d0e969ae5d58</td>\n",
       "      <td>4</td>\n",
       "      <td>GPA.3351-2314-4607-28784</td>\n",
       "      <td>2.29</td>\n",
       "      <td>EUR</td>\n",
       "      <td>2.29</td>\n",
       "      <td>No AB Test</td>\n",
       "      <td>2.467518</td>\n",
       "    </tr>\n",
       "    <tr>\n",
       "      <th>82</th>\n",
       "      <td>2023-11-02 03:58:46.304000+00:00</td>\n",
       "      <td>US</td>\n",
       "      <td>2023-11-02</td>\n",
       "      <td>2023-11-02</td>\n",
       "      <td>d86963d9-99e5-4589-8a8e-240ffa762f6b</td>\n",
       "      <td>0</td>\n",
       "      <td>GPA.3393-7598-7282-86854</td>\n",
       "      <td>0.99</td>\n",
       "      <td>USD</td>\n",
       "      <td>0.99</td>\n",
       "      <td>No AB Test</td>\n",
       "      <td>0.990000</td>\n",
       "    </tr>\n",
       "    <tr>\n",
       "      <th>809</th>\n",
       "      <td>2024-02-13 03:07:45.561000+00:00</td>\n",
       "      <td>CA</td>\n",
       "      <td>2024-02-13</td>\n",
       "      <td>2023-11-13</td>\n",
       "      <td>37face90-e950-4552-808d-7f4f0d4bee97</td>\n",
       "      <td>92</td>\n",
       "      <td>GPA.3389-2935-0738-39730</td>\n",
       "      <td>2.89</td>\n",
       "      <td>CAD</td>\n",
       "      <td>2.89</td>\n",
       "      <td>Control</td>\n",
       "      <td>2.140802</td>\n",
       "    </tr>\n",
       "    <tr>\n",
       "      <th>776</th>\n",
       "      <td>2024-02-09 06:46:50.568000+00:00</td>\n",
       "      <td>US</td>\n",
       "      <td>2024-02-09</td>\n",
       "      <td>2024-02-09</td>\n",
       "      <td>615463d2-f451-45a4-91bd-ebb7b8d04ccb</td>\n",
       "      <td>0</td>\n",
       "      <td>GPA.3315-6810-6790-14166</td>\n",
       "      <td>0.99</td>\n",
       "      <td>USD</td>\n",
       "      <td>0.99</td>\n",
       "      <td>No AB Test</td>\n",
       "      <td>0.990000</td>\n",
       "    </tr>\n",
       "    <tr>\n",
       "      <th>210</th>\n",
       "      <td>2023-11-22 21:33:41.376000+00:00</td>\n",
       "      <td>GB</td>\n",
       "      <td>2023-11-22</td>\n",
       "      <td>2023-11-22</td>\n",
       "      <td>2b092aa2-db65-498c-b7bf-da47d762f27e</td>\n",
       "      <td>0</td>\n",
       "      <td>GPA.3327-9741-4426-92221</td>\n",
       "      <td>1.79</td>\n",
       "      <td>GBP</td>\n",
       "      <td>1.79</td>\n",
       "      <td>No AB Test</td>\n",
       "      <td>2.254090</td>\n",
       "    </tr>\n",
       "    <tr>\n",
       "      <th>40</th>\n",
       "      <td>2023-10-26 07:32:30.551000+00:00</td>\n",
       "      <td>US</td>\n",
       "      <td>2023-10-26</td>\n",
       "      <td>2023-10-26</td>\n",
       "      <td>b1dc2787-99c8-4050-a857-6566076afeab</td>\n",
       "      <td>0</td>\n",
       "      <td>GPA.3392-9982-4107-85459</td>\n",
       "      <td>1.99</td>\n",
       "      <td>USD</td>\n",
       "      <td>1.99</td>\n",
       "      <td>No AB Test</td>\n",
       "      <td>1.990000</td>\n",
       "    </tr>\n",
       "  </tbody>\n",
       "</table>\n",
       "</div>"
      ],
      "text/plain": [
       "                          event_time client_country       date install_date  \\\n",
       "560 2024-01-24 17:04:35.668000+00:00             US 2024-01-24   2024-01-16   \n",
       "865 2024-02-18 22:58:10.262000+00:00             US 2024-02-18   2024-02-04   \n",
       "464 2024-01-16 03:12:59.704000+00:00             US 2024-01-16   2024-01-09   \n",
       "361 2024-01-09 02:47:00.784000+00:00             US 2024-01-09   2024-01-06   \n",
       "113 2023-11-08 09:35:56.881000+00:00             NL 2023-11-08   2023-11-04   \n",
       "82  2023-11-02 03:58:46.304000+00:00             US 2023-11-02   2023-11-02   \n",
       "809 2024-02-13 03:07:45.561000+00:00             CA 2024-02-13   2023-11-13   \n",
       "776 2024-02-09 06:46:50.568000+00:00             US 2024-02-09   2024-02-09   \n",
       "210 2023-11-22 21:33:41.376000+00:00             GB 2023-11-22   2023-11-22   \n",
       "40  2023-10-26 07:32:30.551000+00:00             US 2023-10-26   2023-10-26   \n",
       "\n",
       "                              progress_id  retention_day  \\\n",
       "560  c35eb330-fa98-42d7-8dcf-ccc514f0be9a              8   \n",
       "865  eae86baa-6757-48bf-938b-e811017c4a32             14   \n",
       "464  4e7b57c4-8b10-48c7-885c-dae754f1d03d              7   \n",
       "361  ad97cb4e-b047-4f66-ac1b-44eb2e0b764e              3   \n",
       "113  11ffe36a-5aa1-423b-8004-d0e969ae5d58              4   \n",
       "82   d86963d9-99e5-4589-8a8e-240ffa762f6b              0   \n",
       "809  37face90-e950-4552-808d-7f4f0d4bee97             92   \n",
       "776  615463d2-f451-45a4-91bd-ebb7b8d04ccb              0   \n",
       "210  2b092aa2-db65-498c-b7bf-da47d762f27e              0   \n",
       "40   b1dc2787-99c8-4050-a857-6566076afeab              0   \n",
       "\n",
       "               transaction_id  price local_currency_code  local_revenue_gross  \\\n",
       "560  GPA.3379-2730-4958-46261   0.99                 USD                 0.99   \n",
       "865  GPA.3373-5613-4289-36897   1.99                 USD                 1.99   \n",
       "464  GPA.3376-9185-1761-89916   1.99                 USD                 1.99   \n",
       "361  GPA.3365-2778-5045-51231   3.49                 USD                 3.49   \n",
       "113  GPA.3351-2314-4607-28784   2.29                 EUR                 2.29   \n",
       "82   GPA.3393-7598-7282-86854   0.99                 USD                 0.99   \n",
       "809  GPA.3389-2935-0738-39730   2.89                 CAD                 2.89   \n",
       "776  GPA.3315-6810-6790-14166   0.99                 USD                 0.99   \n",
       "210  GPA.3327-9741-4426-92221   1.79                 GBP                 1.79   \n",
       "40   GPA.3392-9982-4107-85459   1.99                 USD                 1.99   \n",
       "\n",
       "    ab_test_variants  revenue_usd  \n",
       "560       No AB Test     0.990000  \n",
       "865        Variant A     1.990000  \n",
       "464       No AB Test     1.990000  \n",
       "361       No AB Test     3.490000  \n",
       "113       No AB Test     2.467518  \n",
       "82        No AB Test     0.990000  \n",
       "809          Control     2.140802  \n",
       "776       No AB Test     0.990000  \n",
       "210       No AB Test     2.254090  \n",
       "40        No AB Test     1.990000  "
      ]
     },
     "execution_count": 4,
     "metadata": {},
     "output_type": "execute_result"
    }
   ],
   "source": [
    "import pandas as pd\n",
    "import streamlit as st\n",
    "from helpers.iaps_helper import *\n",
    "import matplotlib.pyplot as plt\n",
    "import seaborn as sns\n",
    "import plotly.express as px\n",
    "\n",
    "path = './data/iaps/iaps.csv'\n",
    "df = pd.read_csv(path)\n",
    "## Transform dataframe with assign and pipe\n",
    "def tweak_df_iaps(df):\n",
    "     currencies=fetch_exchange_rates()\n",
    "     return(df\n",
    "            .assign(\n",
    "               revenue_usd = lambda df_: (df_.local_revenue_gross \n",
    "                              / df_.local_currency_code.map(currencies)\n",
    "                              ).fillna(0), \n",
    "               event_time = lambda df_: pd.to_datetime(df_.event_time),\n",
    "               date = lambda df_:pd.to_datetime(df_.date, format='%Y-%m-%d'),\n",
    "               install_date = lambda df_: pd.to_datetime(df_.install_date, format='%Y-%m-%d'),\n",
    "               install_datetime = lambda df_: pd.to_datetime(df_.install_datetime)\n",
    "          ).loc[:,['event_time', 'client_country', 'date', \n",
    "               'install_date','progress_id','retention_day',\n",
    "               'transaction_id','price','local_currency_code',\n",
    "               'local_revenue_gross','ab_test_variants','revenue_usd']])\n",
    "df.pipe(tweak_df_iaps).sample(10)"
   ]
  },
  {
   "cell_type": "code",
   "execution_count": 30,
   "metadata": {},
   "outputs": [
    {
     "name": "stdout",
     "output_type": "stream",
     "text": [
      "<Response [200]>\n"
     ]
    },
    {
     "data": {
      "text/plain": [
       "{'EUR': 0.92805788904752,\n",
       " 'GBP': 0.79411221071112,\n",
       " 'JPY': 150.27487348263,\n",
       " 'AUD': 1.5305337872185,\n",
       " 'CHF': 0.881295702289,\n",
       " 'CAD': 1.3499614057536,\n",
       " 'DKK': 6.9115546259392,\n",
       " 'CNY': 7.1973694994215,\n",
       " 'VND': 24536.705121585,\n",
       " 'IQD': 1335.1712352654,\n",
       " 'CRC': 515.09973684209,\n",
       " 'ILS': 3.6278054482261,\n",
       " 'PEN': 3.8246179809187,\n",
       " 'LYD': 4.9209125964011,\n",
       " 'PYG': 7297.8723404251,\n",
       " 'MXN': 17.041045526431,\n",
       " 'BYN': 3.2726251754797,\n",
       " 'TND': 3.1542579453283,\n",
       " 'BGN': 1.8129342161874,\n",
       " 'PHP': 56.110325471777,\n",
       " 'KZT': 450.94937454357,\n",
       " 'RSD': 108.56325871438,\n",
       " 'PLN': 4.0099821586168,\n",
       " 'ZAR': 18.952089705466,\n",
       " 'AZN': 1.69899750152,\n",
       " 'JOD': 0.70927818901031,\n",
       " 'TRY': 30.868695213325,\n",
       " 'TWD': 31.486988815344,\n",
       " 'IRR': 42807.290210768,\n",
       " 'COP': 3919.9999999999,\n",
       " 'IDR': 15657.497633384,\n",
       " 'NGN': 1605.82,\n",
       " 'LBP': 52919.708466453,\n",
       " 'PAB': 1,\n",
       " 'SEK': 10.422119811305,\n",
       " 'KRW': 1337.1724681628,\n",
       " 'BDT': 110.92312530295,\n",
       " 'AED': 3.6787802526263,\n",
       " 'BOB': 6.8599999999998,\n",
       " 'DOP': 58.90661175618,\n",
       " 'NZD': 1.6284294613818,\n",
       " 'UAH': 38.467581569844,\n",
       " 'TMT': 3.5672741842307,\n",
       " 'HUF': 360.23003389188,\n",
       " 'THB': 36.090050974178,\n",
       " 'EGP': 30.918534130638,\n",
       " 'GEL': 2.7299804617864,\n",
       " 'ISK': 137.97384765541,\n",
       " 'XOF': 613.17959473274,\n",
       " 'AMD': 411.45992304883,\n",
       " 'CLP': 966.23461474332,\n",
       " 'HKD': 7.8218380906234,\n",
       " 'SAR': 3.7553983753076,\n",
       " 'KGS': 91.037000047557,\n",
       " 'HTG': 131.51840490797,\n",
       " 'NOK': 10.493673864696,\n",
       " 'INR': 82.996357564597,\n",
       " 'RUB': 92.4075924949,\n",
       " 'MAD': 10.20870886886,\n",
       " 'UYU': 39.086091960571,\n",
       " 'VES': 36.274732214787,\n",
       " 'MYR': 4.7918196856909,\n",
       " 'PKR': 280.87110156759,\n",
       " 'UZS': 12659.028535529,\n",
       " 'CZK': 23.602730995342,\n",
       " 'SGD': 1.3461610801613,\n",
       " 'MDL': 17.83951335933,\n",
       " 'TJS': 11.168883832196,\n",
       " 'BRL': 4.964090721372,\n",
       " 'RON': 4.6134195398299,\n",
       " 'XAF': 613.17959473274,\n",
       " 'DZD': 135.84089264513,\n",
       " 'ARS': 836.58536585367,\n",
       " 'USD': 1}"
      ]
     },
     "execution_count": 30,
     "metadata": {},
     "output_type": "execute_result"
    }
   ],
   "source": [
    "import requests\n",
    "\n",
    "try:\n",
    "    response = requests.get('https://www.floatrates.com/daily/usd.json')\n",
    "    response.raise_for_status()\n",
    "    print(response)\n",
    "except requests.exceptions.HTTPError as err:\n",
    "    raise SystemExit(err)\n",
    "\n",
    "response_json = response.json()\n",
    "currencies = {response_json[i]['code']:response_json[i]['rate'] for i in response_json}\n",
    "currencies['USD'] =1\n",
    "currencies\n"
   ]
  },
  {
   "cell_type": "code",
   "execution_count": 9,
   "metadata": {},
   "outputs": [
    {
     "data": {
      "text/html": [
       "<div>\n",
       "<style scoped>\n",
       "    .dataframe tbody tr th:only-of-type {\n",
       "        vertical-align: middle;\n",
       "    }\n",
       "\n",
       "    .dataframe tbody tr th {\n",
       "        vertical-align: top;\n",
       "    }\n",
       "\n",
       "    .dataframe thead th {\n",
       "        text-align: right;\n",
       "    }\n",
       "</style>\n",
       "<table border=\"1\" class=\"dataframe\">\n",
       "  <thead>\n",
       "    <tr style=\"text-align: right;\">\n",
       "      <th></th>\n",
       "      <th>event_time</th>\n",
       "      <th>created_cik</th>\n",
       "      <th>date</th>\n",
       "      <th>created_date</th>\n",
       "      <th>first_date</th>\n",
       "      <th>install_date</th>\n",
       "      <th>client_country</th>\n",
       "      <th>progress_id</th>\n",
       "      <th>app_version</th>\n",
       "      <th>user_id</th>\n",
       "      <th>...</th>\n",
       "      <th>revenue</th>\n",
       "      <th>revenue_precision</th>\n",
       "      <th>request_reason</th>\n",
       "      <th>show_reason</th>\n",
       "      <th>ad_placement</th>\n",
       "      <th>split</th>\n",
       "      <th>ab_test_variants</th>\n",
       "      <th>retention_day</th>\n",
       "      <th>last_interaction_date</th>\n",
       "      <th>days_inactive</th>\n",
       "    </tr>\n",
       "  </thead>\n",
       "  <tbody>\n",
       "    <tr>\n",
       "      <th>0</th>\n",
       "      <td>2024-01-22 11:56:57.503 UTC</td>\n",
       "      <td>2023-12-03 11:55:09 UTC</td>\n",
       "      <td>2024-01-22</td>\n",
       "      <td>2023-12-03</td>\n",
       "      <td>2024-01-22</td>\n",
       "      <td>2023-12-03</td>\n",
       "      <td>US</td>\n",
       "      <td>37342849-43be-4f5e-ac47-559fa82e0e8e</td>\n",
       "      <td>1.7.0</td>\n",
       "      <td>00006eee-052b-4c63-888d-246a47cc61dc</td>\n",
       "      <td>...</td>\n",
       "      <td>0.028236</td>\n",
       "      <td>exact</td>\n",
       "      <td>interstitial</td>\n",
       "      <td>interstitial</td>\n",
       "      <td>interstitial</td>\n",
       "      <td>{\"bundle_contents\":1700,\"bundle_purchase\":1701...</td>\n",
       "      <td>No AB Test</td>\n",
       "      <td>50</td>\n",
       "      <td>2024-01-22</td>\n",
       "      <td>29</td>\n",
       "    </tr>\n",
       "    <tr>\n",
       "      <th>1</th>\n",
       "      <td>2024-01-26 21:16:39.712 UTC</td>\n",
       "      <td>2023-12-03 11:55:09 UTC</td>\n",
       "      <td>2024-01-26</td>\n",
       "      <td>2023-12-03</td>\n",
       "      <td>2024-01-22</td>\n",
       "      <td>2023-12-03</td>\n",
       "      <td>US</td>\n",
       "      <td>37342849-43be-4f5e-ac47-559fa82e0e8e</td>\n",
       "      <td>1.7.0</td>\n",
       "      <td>00006eee-052b-4c63-888d-246a47cc61dc</td>\n",
       "      <td>...</td>\n",
       "      <td>0.017053</td>\n",
       "      <td>estimated</td>\n",
       "      <td>interstitial</td>\n",
       "      <td>interstitial</td>\n",
       "      <td>interstitial</td>\n",
       "      <td>{\"bundle_contents\":1700,\"bundle_purchase\":1701...</td>\n",
       "      <td>No AB Test</td>\n",
       "      <td>54</td>\n",
       "      <td>2024-01-26</td>\n",
       "      <td>25</td>\n",
       "    </tr>\n",
       "    <tr>\n",
       "      <th>2</th>\n",
       "      <td>2024-01-26 21:19:05.234 UTC</td>\n",
       "      <td>2023-12-03 11:55:09 UTC</td>\n",
       "      <td>2024-01-26</td>\n",
       "      <td>2023-12-03</td>\n",
       "      <td>2024-01-22</td>\n",
       "      <td>2023-12-03</td>\n",
       "      <td>US</td>\n",
       "      <td>37342849-43be-4f5e-ac47-559fa82e0e8e</td>\n",
       "      <td>1.7.0</td>\n",
       "      <td>00006eee-052b-4c63-888d-246a47cc61dc</td>\n",
       "      <td>...</td>\n",
       "      <td>0.016726</td>\n",
       "      <td>estimated</td>\n",
       "      <td>init_app</td>\n",
       "      <td>rewarded</td>\n",
       "      <td>out_of_moves_ads</td>\n",
       "      <td>{\"bundle_contents\":1700,\"bundle_purchase\":1701...</td>\n",
       "      <td>No AB Test</td>\n",
       "      <td>54</td>\n",
       "      <td>2024-01-26</td>\n",
       "      <td>25</td>\n",
       "    </tr>\n",
       "    <tr>\n",
       "      <th>3</th>\n",
       "      <td>2024-01-26 21:19:53.419 UTC</td>\n",
       "      <td>2023-12-03 11:55:09 UTC</td>\n",
       "      <td>2024-01-26</td>\n",
       "      <td>2023-12-03</td>\n",
       "      <td>2024-01-22</td>\n",
       "      <td>2023-12-03</td>\n",
       "      <td>US</td>\n",
       "      <td>37342849-43be-4f5e-ac47-559fa82e0e8e</td>\n",
       "      <td>1.7.0</td>\n",
       "      <td>00006eee-052b-4c63-888d-246a47cc61dc</td>\n",
       "      <td>...</td>\n",
       "      <td>0.016726</td>\n",
       "      <td>estimated</td>\n",
       "      <td>dismissed</td>\n",
       "      <td>rewarded</td>\n",
       "      <td>out_of_moves_ads</td>\n",
       "      <td>{\"bundle_contents\":1700,\"bundle_purchase\":1701...</td>\n",
       "      <td>No AB Test</td>\n",
       "      <td>54</td>\n",
       "      <td>2024-01-26</td>\n",
       "      <td>25</td>\n",
       "    </tr>\n",
       "    <tr>\n",
       "      <th>4</th>\n",
       "      <td>2024-01-26 21:20:46.157 UTC</td>\n",
       "      <td>2023-12-03 11:55:09 UTC</td>\n",
       "      <td>2024-01-26</td>\n",
       "      <td>2023-12-03</td>\n",
       "      <td>2024-01-22</td>\n",
       "      <td>2023-12-03</td>\n",
       "      <td>US</td>\n",
       "      <td>37342849-43be-4f5e-ac47-559fa82e0e8e</td>\n",
       "      <td>1.7.0</td>\n",
       "      <td>00006eee-052b-4c63-888d-246a47cc61dc</td>\n",
       "      <td>...</td>\n",
       "      <td>0.016726</td>\n",
       "      <td>estimated</td>\n",
       "      <td>dismissed</td>\n",
       "      <td>rewarded</td>\n",
       "      <td>out_of_moves_ads</td>\n",
       "      <td>{\"bundle_contents\":1700,\"bundle_purchase\":1701...</td>\n",
       "      <td>No AB Test</td>\n",
       "      <td>54</td>\n",
       "      <td>2024-01-26</td>\n",
       "      <td>25</td>\n",
       "    </tr>\n",
       "    <tr>\n",
       "      <th>...</th>\n",
       "      <td>...</td>\n",
       "      <td>...</td>\n",
       "      <td>...</td>\n",
       "      <td>...</td>\n",
       "      <td>...</td>\n",
       "      <td>...</td>\n",
       "      <td>...</td>\n",
       "      <td>...</td>\n",
       "      <td>...</td>\n",
       "      <td>...</td>\n",
       "      <td>...</td>\n",
       "      <td>...</td>\n",
       "      <td>...</td>\n",
       "      <td>...</td>\n",
       "      <td>...</td>\n",
       "      <td>...</td>\n",
       "      <td>...</td>\n",
       "      <td>...</td>\n",
       "      <td>...</td>\n",
       "      <td>...</td>\n",
       "      <td>...</td>\n",
       "    </tr>\n",
       "    <tr>\n",
       "      <th>1501936</th>\n",
       "      <td>2024-02-14 02:58:47.931 UTC</td>\n",
       "      <td>2024-02-08 07:21:08 UTC</td>\n",
       "      <td>2024-02-14</td>\n",
       "      <td>2024-02-08</td>\n",
       "      <td>2024-02-08</td>\n",
       "      <td>2024-02-08</td>\n",
       "      <td>US</td>\n",
       "      <td>8b310e0b-d49e-4753-ae10-6904f650f00c</td>\n",
       "      <td>1.8.6</td>\n",
       "      <td>68fb2882-4756-4045-b324-814ff254295b</td>\n",
       "      <td>...</td>\n",
       "      <td>0.023316</td>\n",
       "      <td>estimated</td>\n",
       "      <td>dismissed</td>\n",
       "      <td>rewarded</td>\n",
       "      <td>double_reward</td>\n",
       "      <td>{\"bundle_contents\":1700,\"bundle_purchase\":1800...</td>\n",
       "      <td>Control</td>\n",
       "      <td>6</td>\n",
       "      <td>2024-02-14</td>\n",
       "      <td>6</td>\n",
       "    </tr>\n",
       "    <tr>\n",
       "      <th>1501937</th>\n",
       "      <td>2024-02-14 03:01:44.751 UTC</td>\n",
       "      <td>2024-02-08 07:21:08 UTC</td>\n",
       "      <td>2024-02-14</td>\n",
       "      <td>2024-02-08</td>\n",
       "      <td>2024-02-08</td>\n",
       "      <td>2024-02-08</td>\n",
       "      <td>US</td>\n",
       "      <td>8b310e0b-d49e-4753-ae10-6904f650f00c</td>\n",
       "      <td>1.8.6</td>\n",
       "      <td>68fb2882-4756-4045-b324-814ff254295b</td>\n",
       "      <td>...</td>\n",
       "      <td>0.023316</td>\n",
       "      <td>estimated</td>\n",
       "      <td>dismissed</td>\n",
       "      <td>rewarded</td>\n",
       "      <td>out_of_moves_ads</td>\n",
       "      <td>{\"bundle_contents\":1700,\"bundle_purchase\":1800...</td>\n",
       "      <td>Control</td>\n",
       "      <td>6</td>\n",
       "      <td>2024-02-14</td>\n",
       "      <td>6</td>\n",
       "    </tr>\n",
       "    <tr>\n",
       "      <th>1501938</th>\n",
       "      <td>2024-02-14 03:02:30.44 UTC</td>\n",
       "      <td>2024-02-08 07:21:08 UTC</td>\n",
       "      <td>2024-02-14</td>\n",
       "      <td>2024-02-08</td>\n",
       "      <td>2024-02-08</td>\n",
       "      <td>2024-02-08</td>\n",
       "      <td>US</td>\n",
       "      <td>8b310e0b-d49e-4753-ae10-6904f650f00c</td>\n",
       "      <td>1.8.6</td>\n",
       "      <td>68fb2882-4756-4045-b324-814ff254295b</td>\n",
       "      <td>...</td>\n",
       "      <td>0.023316</td>\n",
       "      <td>estimated</td>\n",
       "      <td>dismissed</td>\n",
       "      <td>rewarded</td>\n",
       "      <td>double_reward</td>\n",
       "      <td>{\"bundle_contents\":1700,\"bundle_purchase\":1800...</td>\n",
       "      <td>Control</td>\n",
       "      <td>6</td>\n",
       "      <td>2024-02-14</td>\n",
       "      <td>6</td>\n",
       "    </tr>\n",
       "    <tr>\n",
       "      <th>1501939</th>\n",
       "      <td>2024-02-14 03:02:43.88 UTC</td>\n",
       "      <td>2024-02-08 07:21:08 UTC</td>\n",
       "      <td>2024-02-14</td>\n",
       "      <td>2024-02-08</td>\n",
       "      <td>2024-02-08</td>\n",
       "      <td>2024-02-08</td>\n",
       "      <td>US</td>\n",
       "      <td>8b310e0b-d49e-4753-ae10-6904f650f00c</td>\n",
       "      <td>1.8.6</td>\n",
       "      <td>68fb2882-4756-4045-b324-814ff254295b</td>\n",
       "      <td>...</td>\n",
       "      <td>0.023896</td>\n",
       "      <td>estimated</td>\n",
       "      <td>interstitial</td>\n",
       "      <td>interstitial</td>\n",
       "      <td>interstitial</td>\n",
       "      <td>{\"bundle_contents\":1700,\"bundle_purchase\":1800...</td>\n",
       "      <td>Control</td>\n",
       "      <td>6</td>\n",
       "      <td>2024-02-14</td>\n",
       "      <td>6</td>\n",
       "    </tr>\n",
       "    <tr>\n",
       "      <th>1501940</th>\n",
       "      <td>2024-02-14 03:08:33.901 UTC</td>\n",
       "      <td>2024-02-08 07:21:08 UTC</td>\n",
       "      <td>2024-02-14</td>\n",
       "      <td>2024-02-08</td>\n",
       "      <td>2024-02-08</td>\n",
       "      <td>2024-02-08</td>\n",
       "      <td>US</td>\n",
       "      <td>8b310e0b-d49e-4753-ae10-6904f650f00c</td>\n",
       "      <td>1.8.6</td>\n",
       "      <td>68fb2882-4756-4045-b324-814ff254295b</td>\n",
       "      <td>...</td>\n",
       "      <td>0.023316</td>\n",
       "      <td>estimated</td>\n",
       "      <td>dismissed</td>\n",
       "      <td>rewarded</td>\n",
       "      <td>double_reward</td>\n",
       "      <td>{\"bundle_contents\":1700,\"bundle_purchase\":1800...</td>\n",
       "      <td>Control</td>\n",
       "      <td>6</td>\n",
       "      <td>2024-02-14</td>\n",
       "      <td>6</td>\n",
       "    </tr>\n",
       "  </tbody>\n",
       "</table>\n",
       "<p>1501941 rows × 35 columns</p>\n",
       "</div>"
      ],
      "text/plain": [
       "                          event_time              created_cik        date  \\\n",
       "0        2024-01-22 11:56:57.503 UTC  2023-12-03 11:55:09 UTC  2024-01-22   \n",
       "1        2024-01-26 21:16:39.712 UTC  2023-12-03 11:55:09 UTC  2024-01-26   \n",
       "2        2024-01-26 21:19:05.234 UTC  2023-12-03 11:55:09 UTC  2024-01-26   \n",
       "3        2024-01-26 21:19:53.419 UTC  2023-12-03 11:55:09 UTC  2024-01-26   \n",
       "4        2024-01-26 21:20:46.157 UTC  2023-12-03 11:55:09 UTC  2024-01-26   \n",
       "...                              ...                      ...         ...   \n",
       "1501936  2024-02-14 02:58:47.931 UTC  2024-02-08 07:21:08 UTC  2024-02-14   \n",
       "1501937  2024-02-14 03:01:44.751 UTC  2024-02-08 07:21:08 UTC  2024-02-14   \n",
       "1501938   2024-02-14 03:02:30.44 UTC  2024-02-08 07:21:08 UTC  2024-02-14   \n",
       "1501939   2024-02-14 03:02:43.88 UTC  2024-02-08 07:21:08 UTC  2024-02-14   \n",
       "1501940  2024-02-14 03:08:33.901 UTC  2024-02-08 07:21:08 UTC  2024-02-14   \n",
       "\n",
       "        created_date  first_date install_date client_country  \\\n",
       "0         2023-12-03  2024-01-22   2023-12-03             US   \n",
       "1         2023-12-03  2024-01-22   2023-12-03             US   \n",
       "2         2023-12-03  2024-01-22   2023-12-03             US   \n",
       "3         2023-12-03  2024-01-22   2023-12-03             US   \n",
       "4         2023-12-03  2024-01-22   2023-12-03             US   \n",
       "...              ...         ...          ...            ...   \n",
       "1501936   2024-02-08  2024-02-08   2024-02-08             US   \n",
       "1501937   2024-02-08  2024-02-08   2024-02-08             US   \n",
       "1501938   2024-02-08  2024-02-08   2024-02-08             US   \n",
       "1501939   2024-02-08  2024-02-08   2024-02-08             US   \n",
       "1501940   2024-02-08  2024-02-08   2024-02-08             US   \n",
       "\n",
       "                                  progress_id app_version  \\\n",
       "0        37342849-43be-4f5e-ac47-559fa82e0e8e       1.7.0   \n",
       "1        37342849-43be-4f5e-ac47-559fa82e0e8e       1.7.0   \n",
       "2        37342849-43be-4f5e-ac47-559fa82e0e8e       1.7.0   \n",
       "3        37342849-43be-4f5e-ac47-559fa82e0e8e       1.7.0   \n",
       "4        37342849-43be-4f5e-ac47-559fa82e0e8e       1.7.0   \n",
       "...                                       ...         ...   \n",
       "1501936  8b310e0b-d49e-4753-ae10-6904f650f00c       1.8.6   \n",
       "1501937  8b310e0b-d49e-4753-ae10-6904f650f00c       1.8.6   \n",
       "1501938  8b310e0b-d49e-4753-ae10-6904f650f00c       1.8.6   \n",
       "1501939  8b310e0b-d49e-4753-ae10-6904f650f00c       1.8.6   \n",
       "1501940  8b310e0b-d49e-4753-ae10-6904f650f00c       1.8.6   \n",
       "\n",
       "                                      user_id  ...   revenue  \\\n",
       "0        00006eee-052b-4c63-888d-246a47cc61dc  ...  0.028236   \n",
       "1        00006eee-052b-4c63-888d-246a47cc61dc  ...  0.017053   \n",
       "2        00006eee-052b-4c63-888d-246a47cc61dc  ...  0.016726   \n",
       "3        00006eee-052b-4c63-888d-246a47cc61dc  ...  0.016726   \n",
       "4        00006eee-052b-4c63-888d-246a47cc61dc  ...  0.016726   \n",
       "...                                       ...  ...       ...   \n",
       "1501936  68fb2882-4756-4045-b324-814ff254295b  ...  0.023316   \n",
       "1501937  68fb2882-4756-4045-b324-814ff254295b  ...  0.023316   \n",
       "1501938  68fb2882-4756-4045-b324-814ff254295b  ...  0.023316   \n",
       "1501939  68fb2882-4756-4045-b324-814ff254295b  ...  0.023896   \n",
       "1501940  68fb2882-4756-4045-b324-814ff254295b  ...  0.023316   \n",
       "\n",
       "        revenue_precision  request_reason   show_reason      ad_placement  \\\n",
       "0                   exact    interstitial  interstitial      interstitial   \n",
       "1               estimated    interstitial  interstitial      interstitial   \n",
       "2               estimated        init_app      rewarded  out_of_moves_ads   \n",
       "3               estimated       dismissed      rewarded  out_of_moves_ads   \n",
       "4               estimated       dismissed      rewarded  out_of_moves_ads   \n",
       "...                   ...             ...           ...               ...   \n",
       "1501936         estimated       dismissed      rewarded     double_reward   \n",
       "1501937         estimated       dismissed      rewarded  out_of_moves_ads   \n",
       "1501938         estimated       dismissed      rewarded     double_reward   \n",
       "1501939         estimated    interstitial  interstitial      interstitial   \n",
       "1501940         estimated       dismissed      rewarded     double_reward   \n",
       "\n",
       "                                                     split ab_test_variants  \\\n",
       "0        {\"bundle_contents\":1700,\"bundle_purchase\":1701...       No AB Test   \n",
       "1        {\"bundle_contents\":1700,\"bundle_purchase\":1701...       No AB Test   \n",
       "2        {\"bundle_contents\":1700,\"bundle_purchase\":1701...       No AB Test   \n",
       "3        {\"bundle_contents\":1700,\"bundle_purchase\":1701...       No AB Test   \n",
       "4        {\"bundle_contents\":1700,\"bundle_purchase\":1701...       No AB Test   \n",
       "...                                                    ...              ...   \n",
       "1501936  {\"bundle_contents\":1700,\"bundle_purchase\":1800...          Control   \n",
       "1501937  {\"bundle_contents\":1700,\"bundle_purchase\":1800...          Control   \n",
       "1501938  {\"bundle_contents\":1700,\"bundle_purchase\":1800...          Control   \n",
       "1501939  {\"bundle_contents\":1700,\"bundle_purchase\":1800...          Control   \n",
       "1501940  {\"bundle_contents\":1700,\"bundle_purchase\":1800...          Control   \n",
       "\n",
       "        retention_day  last_interaction_date days_inactive  \n",
       "0                  50             2024-01-22            29  \n",
       "1                  54             2024-01-26            25  \n",
       "2                  54             2024-01-26            25  \n",
       "3                  54             2024-01-26            25  \n",
       "4                  54             2024-01-26            25  \n",
       "...               ...                    ...           ...  \n",
       "1501936             6             2024-02-14             6  \n",
       "1501937             6             2024-02-14             6  \n",
       "1501938             6             2024-02-14             6  \n",
       "1501939             6             2024-02-14             6  \n",
       "1501940             6             2024-02-14             6  \n",
       "\n",
       "[1501941 rows x 35 columns]"
      ]
     },
     "execution_count": 9,
     "metadata": {},
     "output_type": "execute_result"
    }
   ],
   "source": [
    "# Ads\n",
    "\n",
    "\n",
    "columns= ads2.columns\n",
    "\n",
    "pd.concat([ads1,ads2]).reset_index(drop=True)"
   ]
  },
  {
   "cell_type": "code",
   "execution_count": 29,
   "metadata": {},
   "outputs": [
    {
     "data": {
      "text/html": [
       "<div>\n",
       "<style scoped>\n",
       "    .dataframe tbody tr th:only-of-type {\n",
       "        vertical-align: middle;\n",
       "    }\n",
       "\n",
       "    .dataframe tbody tr th {\n",
       "        vertical-align: top;\n",
       "    }\n",
       "\n",
       "    .dataframe thead th {\n",
       "        text-align: right;\n",
       "    }\n",
       "</style>\n",
       "<table border=\"1\" class=\"dataframe\">\n",
       "  <thead>\n",
       "    <tr style=\"text-align: right;\">\n",
       "      <th></th>\n",
       "      <th>event_time</th>\n",
       "      <th>created_cik</th>\n",
       "      <th>date</th>\n",
       "      <th>created_date</th>\n",
       "      <th>first_date</th>\n",
       "      <th>install_date</th>\n",
       "      <th>client_country</th>\n",
       "      <th>progress_id</th>\n",
       "      <th>app_version</th>\n",
       "      <th>user_id</th>\n",
       "      <th>...</th>\n",
       "      <th>revenue</th>\n",
       "      <th>revenue_precision</th>\n",
       "      <th>request_reason</th>\n",
       "      <th>show_reason</th>\n",
       "      <th>ad_placement</th>\n",
       "      <th>split</th>\n",
       "      <th>ab_test_variants</th>\n",
       "      <th>retention_day</th>\n",
       "      <th>last_interaction_date</th>\n",
       "      <th>days_inactive</th>\n",
       "    </tr>\n",
       "  </thead>\n",
       "  <tbody>\n",
       "    <tr>\n",
       "      <th>48957</th>\n",
       "      <td>2024-01-25 16:58:33.697</td>\n",
       "      <td>2024-01-23 18:41:34</td>\n",
       "      <td>2024-01-25</td>\n",
       "      <td>2024-01-23</td>\n",
       "      <td>2024-01-25</td>\n",
       "      <td>2024-01-23</td>\n",
       "      <td>NaN</td>\n",
       "      <td>385a56bc-1bb6-46c1-8d60-4ba08a550d33</td>\n",
       "      <td>1.7.0</td>\n",
       "      <td>2fd43739-1608-4ec9-8891-55897b5d17f6</td>\n",
       "      <td>...</td>\n",
       "      <td>0.001778</td>\n",
       "      <td>exact</td>\n",
       "      <td>interstitial</td>\n",
       "      <td>interstitial</td>\n",
       "      <td>interstitial</td>\n",
       "      <td>{\"bundle_contents\":1700,\"bundle_purchase\":1701...</td>\n",
       "      <td>No AB Test</td>\n",
       "      <td>2</td>\n",
       "      <td>2024-01-25</td>\n",
       "      <td>26</td>\n",
       "    </tr>\n",
       "    <tr>\n",
       "      <th>48958</th>\n",
       "      <td>2024-01-28 09:58:31.918</td>\n",
       "      <td>2024-01-23 18:41:34</td>\n",
       "      <td>2024-01-28</td>\n",
       "      <td>2024-01-23</td>\n",
       "      <td>2024-01-25</td>\n",
       "      <td>2024-01-23</td>\n",
       "      <td>NaN</td>\n",
       "      <td>385a56bc-1bb6-46c1-8d60-4ba08a550d33</td>\n",
       "      <td>1.7.0</td>\n",
       "      <td>2fd43739-1608-4ec9-8891-55897b5d17f6</td>\n",
       "      <td>...</td>\n",
       "      <td>0.002246</td>\n",
       "      <td>exact</td>\n",
       "      <td>interstitial</td>\n",
       "      <td>interstitial</td>\n",
       "      <td>interstitial</td>\n",
       "      <td>{\"bundle_contents\":1700,\"bundle_purchase\":1701...</td>\n",
       "      <td>No AB Test</td>\n",
       "      <td>5</td>\n",
       "      <td>2024-01-28</td>\n",
       "      <td>23</td>\n",
       "    </tr>\n",
       "    <tr>\n",
       "      <th>48959</th>\n",
       "      <td>2024-01-28 10:04:44.028</td>\n",
       "      <td>2024-01-23 18:41:34</td>\n",
       "      <td>2024-01-28</td>\n",
       "      <td>2024-01-23</td>\n",
       "      <td>2024-01-25</td>\n",
       "      <td>2024-01-23</td>\n",
       "      <td>NaN</td>\n",
       "      <td>385a56bc-1bb6-46c1-8d60-4ba08a550d33</td>\n",
       "      <td>1.7.0</td>\n",
       "      <td>2fd43739-1608-4ec9-8891-55897b5d17f6</td>\n",
       "      <td>...</td>\n",
       "      <td>0.001354</td>\n",
       "      <td>exact</td>\n",
       "      <td>interstitial</td>\n",
       "      <td>interstitial</td>\n",
       "      <td>interstitial</td>\n",
       "      <td>{\"bundle_contents\":1700,\"bundle_purchase\":1701...</td>\n",
       "      <td>No AB Test</td>\n",
       "      <td>5</td>\n",
       "      <td>2024-01-28</td>\n",
       "      <td>23</td>\n",
       "    </tr>\n",
       "    <tr>\n",
       "      <th>54225</th>\n",
       "      <td>2024-01-20 08:52:12.963</td>\n",
       "      <td>2024-01-20 08:49:01</td>\n",
       "      <td>2024-01-20</td>\n",
       "      <td>2024-01-20</td>\n",
       "      <td>2024-01-20</td>\n",
       "      <td>2024-01-20</td>\n",
       "      <td>NaN</td>\n",
       "      <td>2470709e-39fa-4e5a-b67f-e3783bc4d852</td>\n",
       "      <td>1.7.0</td>\n",
       "      <td>317413f9-4777-45f7-90ce-0af69a9aefa5</td>\n",
       "      <td>...</td>\n",
       "      <td>0.001018</td>\n",
       "      <td>exact</td>\n",
       "      <td>interstitial</td>\n",
       "      <td>interstitial</td>\n",
       "      <td>interstitial</td>\n",
       "      <td>{\"bundle_contents\":1700,\"bundle_purchase\":1701...</td>\n",
       "      <td>No AB Test</td>\n",
       "      <td>0</td>\n",
       "      <td>2024-01-20</td>\n",
       "      <td>31</td>\n",
       "    </tr>\n",
       "    <tr>\n",
       "      <th>54226</th>\n",
       "      <td>2024-01-20 08:58:42.225</td>\n",
       "      <td>2024-01-20 08:49:01</td>\n",
       "      <td>2024-01-20</td>\n",
       "      <td>2024-01-20</td>\n",
       "      <td>2024-01-20</td>\n",
       "      <td>2024-01-20</td>\n",
       "      <td>NaN</td>\n",
       "      <td>2470709e-39fa-4e5a-b67f-e3783bc4d852</td>\n",
       "      <td>1.7.0</td>\n",
       "      <td>317413f9-4777-45f7-90ce-0af69a9aefa5</td>\n",
       "      <td>...</td>\n",
       "      <td>0.001231</td>\n",
       "      <td>exact</td>\n",
       "      <td>interstitial</td>\n",
       "      <td>interstitial</td>\n",
       "      <td>interstitial</td>\n",
       "      <td>{\"bundle_contents\":1700,\"bundle_purchase\":1701...</td>\n",
       "      <td>No AB Test</td>\n",
       "      <td>0</td>\n",
       "      <td>2024-01-20</td>\n",
       "      <td>31</td>\n",
       "    </tr>\n",
       "    <tr>\n",
       "      <th>...</th>\n",
       "      <td>...</td>\n",
       "      <td>...</td>\n",
       "      <td>...</td>\n",
       "      <td>...</td>\n",
       "      <td>...</td>\n",
       "      <td>...</td>\n",
       "      <td>...</td>\n",
       "      <td>...</td>\n",
       "      <td>...</td>\n",
       "      <td>...</td>\n",
       "      <td>...</td>\n",
       "      <td>...</td>\n",
       "      <td>...</td>\n",
       "      <td>...</td>\n",
       "      <td>...</td>\n",
       "      <td>...</td>\n",
       "      <td>...</td>\n",
       "      <td>...</td>\n",
       "      <td>...</td>\n",
       "      <td>...</td>\n",
       "      <td>...</td>\n",
       "    </tr>\n",
       "    <tr>\n",
       "      <th>1455399</th>\n",
       "      <td>2024-02-06 12:28:02.414</td>\n",
       "      <td>2024-01-20 08:49:01</td>\n",
       "      <td>2024-02-06</td>\n",
       "      <td>2024-01-20</td>\n",
       "      <td>2024-02-01</td>\n",
       "      <td>2024-01-20</td>\n",
       "      <td>NaN</td>\n",
       "      <td>2470709e-39fa-4e5a-b67f-e3783bc4d852</td>\n",
       "      <td>1.7.0</td>\n",
       "      <td>317413f9-4777-45f7-90ce-0af69a9aefa5</td>\n",
       "      <td>...</td>\n",
       "      <td>0.000414</td>\n",
       "      <td>exact</td>\n",
       "      <td>dismissed</td>\n",
       "      <td>rewarded</td>\n",
       "      <td>out_of_moves_ads</td>\n",
       "      <td>{\"bundle_contents\":1700,\"bundle_purchase\":1701...</td>\n",
       "      <td>No AB Test</td>\n",
       "      <td>17</td>\n",
       "      <td>2024-02-06</td>\n",
       "      <td>15</td>\n",
       "    </tr>\n",
       "    <tr>\n",
       "      <th>1455400</th>\n",
       "      <td>2024-02-06 12:34:20.203</td>\n",
       "      <td>2024-01-20 08:49:01</td>\n",
       "      <td>2024-02-06</td>\n",
       "      <td>2024-01-20</td>\n",
       "      <td>2024-02-01</td>\n",
       "      <td>2024-01-20</td>\n",
       "      <td>NaN</td>\n",
       "      <td>2470709e-39fa-4e5a-b67f-e3783bc4d852</td>\n",
       "      <td>1.7.0</td>\n",
       "      <td>317413f9-4777-45f7-90ce-0af69a9aefa5</td>\n",
       "      <td>...</td>\n",
       "      <td>0.000352</td>\n",
       "      <td>exact</td>\n",
       "      <td>init_app</td>\n",
       "      <td>rewarded</td>\n",
       "      <td>out_of_moves_ads</td>\n",
       "      <td>{\"bundle_contents\":1700,\"bundle_purchase\":1701...</td>\n",
       "      <td>No AB Test</td>\n",
       "      <td>17</td>\n",
       "      <td>2024-02-06</td>\n",
       "      <td>15</td>\n",
       "    </tr>\n",
       "    <tr>\n",
       "      <th>1455401</th>\n",
       "      <td>2024-02-06 12:34:51.598</td>\n",
       "      <td>2024-01-20 08:49:01</td>\n",
       "      <td>2024-02-06</td>\n",
       "      <td>2024-01-20</td>\n",
       "      <td>2024-02-01</td>\n",
       "      <td>2024-01-20</td>\n",
       "      <td>NaN</td>\n",
       "      <td>2470709e-39fa-4e5a-b67f-e3783bc4d852</td>\n",
       "      <td>1.7.0</td>\n",
       "      <td>317413f9-4777-45f7-90ce-0af69a9aefa5</td>\n",
       "      <td>...</td>\n",
       "      <td>0.000457</td>\n",
       "      <td>exact</td>\n",
       "      <td>dismissed</td>\n",
       "      <td>rewarded</td>\n",
       "      <td>out_of_moves_ads</td>\n",
       "      <td>{\"bundle_contents\":1700,\"bundle_purchase\":1701...</td>\n",
       "      <td>No AB Test</td>\n",
       "      <td>17</td>\n",
       "      <td>2024-02-06</td>\n",
       "      <td>15</td>\n",
       "    </tr>\n",
       "    <tr>\n",
       "      <th>1455402</th>\n",
       "      <td>2024-02-06 12:37:33.479</td>\n",
       "      <td>2024-01-20 08:49:01</td>\n",
       "      <td>2024-02-06</td>\n",
       "      <td>2024-01-20</td>\n",
       "      <td>2024-02-01</td>\n",
       "      <td>2024-01-20</td>\n",
       "      <td>NaN</td>\n",
       "      <td>2470709e-39fa-4e5a-b67f-e3783bc4d852</td>\n",
       "      <td>1.7.0</td>\n",
       "      <td>317413f9-4777-45f7-90ce-0af69a9aefa5</td>\n",
       "      <td>...</td>\n",
       "      <td>0.000995</td>\n",
       "      <td>exact</td>\n",
       "      <td>interstitial</td>\n",
       "      <td>interstitial</td>\n",
       "      <td>interstitial</td>\n",
       "      <td>{\"bundle_contents\":1700,\"bundle_purchase\":1701...</td>\n",
       "      <td>No AB Test</td>\n",
       "      <td>17</td>\n",
       "      <td>2024-02-06</td>\n",
       "      <td>15</td>\n",
       "    </tr>\n",
       "    <tr>\n",
       "      <th>1455403</th>\n",
       "      <td>2024-02-06 12:42:29.283</td>\n",
       "      <td>2024-01-20 08:49:01</td>\n",
       "      <td>2024-02-06</td>\n",
       "      <td>2024-01-20</td>\n",
       "      <td>2024-02-01</td>\n",
       "      <td>2024-01-20</td>\n",
       "      <td>NaN</td>\n",
       "      <td>2470709e-39fa-4e5a-b67f-e3783bc4d852</td>\n",
       "      <td>1.7.0</td>\n",
       "      <td>317413f9-4777-45f7-90ce-0af69a9aefa5</td>\n",
       "      <td>...</td>\n",
       "      <td>0.000505</td>\n",
       "      <td>exact</td>\n",
       "      <td>dismissed</td>\n",
       "      <td>rewarded</td>\n",
       "      <td>out_of_moves_ads</td>\n",
       "      <td>{\"bundle_contents\":1700,\"bundle_purchase\":1701...</td>\n",
       "      <td>No AB Test</td>\n",
       "      <td>17</td>\n",
       "      <td>2024-02-06</td>\n",
       "      <td>15</td>\n",
       "    </tr>\n",
       "  </tbody>\n",
       "</table>\n",
       "<p>1375 rows × 35 columns</p>\n",
       "</div>"
      ],
      "text/plain": [
       "                     event_time         created_cik       date created_date  \\\n",
       "48957   2024-01-25 16:58:33.697 2024-01-23 18:41:34 2024-01-25   2024-01-23   \n",
       "48958   2024-01-28 09:58:31.918 2024-01-23 18:41:34 2024-01-28   2024-01-23   \n",
       "48959   2024-01-28 10:04:44.028 2024-01-23 18:41:34 2024-01-28   2024-01-23   \n",
       "54225   2024-01-20 08:52:12.963 2024-01-20 08:49:01 2024-01-20   2024-01-20   \n",
       "54226   2024-01-20 08:58:42.225 2024-01-20 08:49:01 2024-01-20   2024-01-20   \n",
       "...                         ...                 ...        ...          ...   \n",
       "1455399 2024-02-06 12:28:02.414 2024-01-20 08:49:01 2024-02-06   2024-01-20   \n",
       "1455400 2024-02-06 12:34:20.203 2024-01-20 08:49:01 2024-02-06   2024-01-20   \n",
       "1455401 2024-02-06 12:34:51.598 2024-01-20 08:49:01 2024-02-06   2024-01-20   \n",
       "1455402 2024-02-06 12:37:33.479 2024-01-20 08:49:01 2024-02-06   2024-01-20   \n",
       "1455403 2024-02-06 12:42:29.283 2024-01-20 08:49:01 2024-02-06   2024-01-20   \n",
       "\n",
       "        first_date install_date client_country  \\\n",
       "48957   2024-01-25   2024-01-23            NaN   \n",
       "48958   2024-01-25   2024-01-23            NaN   \n",
       "48959   2024-01-25   2024-01-23            NaN   \n",
       "54225   2024-01-20   2024-01-20            NaN   \n",
       "54226   2024-01-20   2024-01-20            NaN   \n",
       "...            ...          ...            ...   \n",
       "1455399 2024-02-01   2024-01-20            NaN   \n",
       "1455400 2024-02-01   2024-01-20            NaN   \n",
       "1455401 2024-02-01   2024-01-20            NaN   \n",
       "1455402 2024-02-01   2024-01-20            NaN   \n",
       "1455403 2024-02-01   2024-01-20            NaN   \n",
       "\n",
       "                                  progress_id app_version  \\\n",
       "48957    385a56bc-1bb6-46c1-8d60-4ba08a550d33       1.7.0   \n",
       "48958    385a56bc-1bb6-46c1-8d60-4ba08a550d33       1.7.0   \n",
       "48959    385a56bc-1bb6-46c1-8d60-4ba08a550d33       1.7.0   \n",
       "54225    2470709e-39fa-4e5a-b67f-e3783bc4d852       1.7.0   \n",
       "54226    2470709e-39fa-4e5a-b67f-e3783bc4d852       1.7.0   \n",
       "...                                       ...         ...   \n",
       "1455399  2470709e-39fa-4e5a-b67f-e3783bc4d852       1.7.0   \n",
       "1455400  2470709e-39fa-4e5a-b67f-e3783bc4d852       1.7.0   \n",
       "1455401  2470709e-39fa-4e5a-b67f-e3783bc4d852       1.7.0   \n",
       "1455402  2470709e-39fa-4e5a-b67f-e3783bc4d852       1.7.0   \n",
       "1455403  2470709e-39fa-4e5a-b67f-e3783bc4d852       1.7.0   \n",
       "\n",
       "                                      user_id  ...   revenue  \\\n",
       "48957    2fd43739-1608-4ec9-8891-55897b5d17f6  ...  0.001778   \n",
       "48958    2fd43739-1608-4ec9-8891-55897b5d17f6  ...  0.002246   \n",
       "48959    2fd43739-1608-4ec9-8891-55897b5d17f6  ...  0.001354   \n",
       "54225    317413f9-4777-45f7-90ce-0af69a9aefa5  ...  0.001018   \n",
       "54226    317413f9-4777-45f7-90ce-0af69a9aefa5  ...  0.001231   \n",
       "...                                       ...  ...       ...   \n",
       "1455399  317413f9-4777-45f7-90ce-0af69a9aefa5  ...  0.000414   \n",
       "1455400  317413f9-4777-45f7-90ce-0af69a9aefa5  ...  0.000352   \n",
       "1455401  317413f9-4777-45f7-90ce-0af69a9aefa5  ...  0.000457   \n",
       "1455402  317413f9-4777-45f7-90ce-0af69a9aefa5  ...  0.000995   \n",
       "1455403  317413f9-4777-45f7-90ce-0af69a9aefa5  ...  0.000505   \n",
       "\n",
       "        revenue_precision  request_reason   show_reason      ad_placement  \\\n",
       "48957               exact    interstitial  interstitial      interstitial   \n",
       "48958               exact    interstitial  interstitial      interstitial   \n",
       "48959               exact    interstitial  interstitial      interstitial   \n",
       "54225               exact    interstitial  interstitial      interstitial   \n",
       "54226               exact    interstitial  interstitial      interstitial   \n",
       "...                   ...             ...           ...               ...   \n",
       "1455399             exact       dismissed      rewarded  out_of_moves_ads   \n",
       "1455400             exact        init_app      rewarded  out_of_moves_ads   \n",
       "1455401             exact       dismissed      rewarded  out_of_moves_ads   \n",
       "1455402             exact    interstitial  interstitial      interstitial   \n",
       "1455403             exact       dismissed      rewarded  out_of_moves_ads   \n",
       "\n",
       "                                                     split ab_test_variants  \\\n",
       "48957    {\"bundle_contents\":1700,\"bundle_purchase\":1701...       No AB Test   \n",
       "48958    {\"bundle_contents\":1700,\"bundle_purchase\":1701...       No AB Test   \n",
       "48959    {\"bundle_contents\":1700,\"bundle_purchase\":1701...       No AB Test   \n",
       "54225    {\"bundle_contents\":1700,\"bundle_purchase\":1701...       No AB Test   \n",
       "54226    {\"bundle_contents\":1700,\"bundle_purchase\":1701...       No AB Test   \n",
       "...                                                    ...              ...   \n",
       "1455399  {\"bundle_contents\":1700,\"bundle_purchase\":1701...       No AB Test   \n",
       "1455400  {\"bundle_contents\":1700,\"bundle_purchase\":1701...       No AB Test   \n",
       "1455401  {\"bundle_contents\":1700,\"bundle_purchase\":1701...       No AB Test   \n",
       "1455402  {\"bundle_contents\":1700,\"bundle_purchase\":1701...       No AB Test   \n",
       "1455403  {\"bundle_contents\":1700,\"bundle_purchase\":1701...       No AB Test   \n",
       "\n",
       "        retention_day  last_interaction_date days_inactive  \n",
       "48957               2             2024-01-25            26  \n",
       "48958               5             2024-01-28            23  \n",
       "48959               5             2024-01-28            23  \n",
       "54225               0             2024-01-20            31  \n",
       "54226               0             2024-01-20            31  \n",
       "...               ...                    ...           ...  \n",
       "1455399            17             2024-02-06            15  \n",
       "1455400            17             2024-02-06            15  \n",
       "1455401            17             2024-02-06            15  \n",
       "1455402            17             2024-02-06            15  \n",
       "1455403            17             2024-02-06            15  \n",
       "\n",
       "[1375 rows x 35 columns]"
      ]
     },
     "execution_count": 29,
     "metadata": {},
     "output_type": "execute_result"
    }
   ],
   "source": [
    "# Ads\n",
    "\n",
    "import pandas as pd \n",
    "import numpy as np\n",
    "import streamlit as st\n",
    "from helpers.iaps_helper import *\n",
    "import matplotlib.pyplot as plt\n",
    "import seaborn as sns\n",
    "import plotly.express as px\n",
    "\n",
    "ads1=pd.read_csv('./data/ads/ads.csv')\n",
    "ads2 =pd.read_csv('./data/ads/ads2.csv')\n",
    "\n",
    "ads = pd.concat([ads1,ads2])\n",
    "\n",
    "ads = ads.reset_index(drop=True).assign(event_time = \n",
    "                                        lambda df_:pd.to_datetime(df_.event_time.str.replace('UTC', '').str.strip(), \n",
    "                                                                format='ISO8601'),\n",
    "                                        created_cik = \n",
    "                                        lambda df_:pd.to_datetime(df_.created_cik.str.replace('UTC', '').str.strip(), \n",
    "                                                                format='ISO8601'),\n",
    "                                        date = lambda df_:pd.to_datetime(df_.date),\n",
    "                                        created_date = lambda df_:pd.to_datetime(df_.created_date),\n",
    "                                        install_date = lambda df_:pd.to_datetime(df_.install_date),\n",
    "                                        first_date = lambda df_:pd.to_datetime(df_.first_date),\n",
    "                                        last_interaction_date = lambda df_:pd.to_datetime(df_.last_interaction_date)\n",
    "                                        \n",
    "                                        ).assign(\n",
    "                                            created_date = lambda df_: df_.created_date.where(df_.created_date != df_.created_date.min(), df_.first_date),\n",
    "                                            install_date = lambda df_: df_.install_date.where(df_.install_date != df_.install_date.min(), df_.first_date),\n",
    "                                            retention_day = lambda df_: ((df_.date - df_.created_date) / np.timedelta64(1,'D')).astype('int')\n",
    "                                        )\n",
    "    \n",
    "\n",
    "daily_impressions = ads.groupby('date')['event'].count()\n",
    "\n",
    "ads[ads.client_country.isnull()]\n",
    "\n"
   ]
  },
  {
   "cell_type": "code",
   "execution_count": 22,
   "metadata": {},
   "outputs": [
    {
     "name": "stdout",
     "output_type": "stream",
     "text": [
      "28113\n",
      "28508\n",
      "user_id with nulls 27\n"
     ]
    },
    {
     "data": {
      "text/html": [
       "<div>\n",
       "<style scoped>\n",
       "    .dataframe tbody tr th:only-of-type {\n",
       "        vertical-align: middle;\n",
       "    }\n",
       "\n",
       "    .dataframe tbody tr th {\n",
       "        vertical-align: top;\n",
       "    }\n",
       "\n",
       "    .dataframe thead th {\n",
       "        text-align: right;\n",
       "    }\n",
       "</style>\n",
       "<table border=\"1\" class=\"dataframe\">\n",
       "  <thead>\n",
       "    <tr style=\"text-align: right;\">\n",
       "      <th></th>\n",
       "      <th>progress_id</th>\n",
       "    </tr>\n",
       "    <tr>\n",
       "      <th>user_id</th>\n",
       "      <th></th>\n",
       "    </tr>\n",
       "  </thead>\n",
       "  <tbody>\n",
       "    <tr>\n",
       "      <th>0769e17e-c434-424e-9bfa-aa30afa0e38f</th>\n",
       "      <td>0</td>\n",
       "    </tr>\n",
       "    <tr>\n",
       "      <th>18c1057d-9681-423f-8655-b6526e03a8a1</th>\n",
       "      <td>0</td>\n",
       "    </tr>\n",
       "    <tr>\n",
       "      <th>1c7a50e1-26be-49aa-8f29-08054ebea82c</th>\n",
       "      <td>0</td>\n",
       "    </tr>\n",
       "    <tr>\n",
       "      <th>31a54a4f-9ab5-4f44-8e4c-0f1f235ede4e</th>\n",
       "      <td>0</td>\n",
       "    </tr>\n",
       "    <tr>\n",
       "      <th>338cddca-9601-489b-9dcc-5000a70ee3ad</th>\n",
       "      <td>0</td>\n",
       "    </tr>\n",
       "    <tr>\n",
       "      <th>34675991-1b56-4b10-bf3e-061c5760579e</th>\n",
       "      <td>0</td>\n",
       "    </tr>\n",
       "    <tr>\n",
       "      <th>41d85674-488b-42dc-bfb2-18154f6abe91</th>\n",
       "      <td>0</td>\n",
       "    </tr>\n",
       "    <tr>\n",
       "      <th>4f3bebd4-1384-4ea5-9cd0-d7124ad5d113</th>\n",
       "      <td>0</td>\n",
       "    </tr>\n",
       "    <tr>\n",
       "      <th>4f96fecf-30c5-48d3-ae67-4468f6227ecd</th>\n",
       "      <td>0</td>\n",
       "    </tr>\n",
       "    <tr>\n",
       "      <th>5420126c-95b6-4220-b606-d9501e96cc00</th>\n",
       "      <td>0</td>\n",
       "    </tr>\n",
       "    <tr>\n",
       "      <th>6002869e-40e7-45b1-aa6c-d522725aa626</th>\n",
       "      <td>0</td>\n",
       "    </tr>\n",
       "    <tr>\n",
       "      <th>63bb6950-6fb7-4d22-86c6-e31f2df4608c</th>\n",
       "      <td>0</td>\n",
       "    </tr>\n",
       "    <tr>\n",
       "      <th>7370d754-5ea7-480e-9711-7cde98ab9ccc</th>\n",
       "      <td>0</td>\n",
       "    </tr>\n",
       "    <tr>\n",
       "      <th>7a0b6995-990d-43ad-91a3-b13e6f6b3894</th>\n",
       "      <td>0</td>\n",
       "    </tr>\n",
       "    <tr>\n",
       "      <th>8a9b0e79-f28b-4a18-bdb3-19197c4b565b</th>\n",
       "      <td>0</td>\n",
       "    </tr>\n",
       "    <tr>\n",
       "      <th>91b2df63-06e3-40e5-bfda-2a429d2862b8</th>\n",
       "      <td>0</td>\n",
       "    </tr>\n",
       "    <tr>\n",
       "      <th>968e8d3c-2fd0-4c0a-891c-9d6e73c46036</th>\n",
       "      <td>0</td>\n",
       "    </tr>\n",
       "    <tr>\n",
       "      <th>9ea19422-4a2f-4500-86e3-ef8a6fb66029</th>\n",
       "      <td>0</td>\n",
       "    </tr>\n",
       "    <tr>\n",
       "      <th>a9f44619-d8fa-4756-b19a-18ee2ce3208a</th>\n",
       "      <td>0</td>\n",
       "    </tr>\n",
       "    <tr>\n",
       "      <th>b558cad2-be68-4eb6-a2a8-79b3e335f126</th>\n",
       "      <td>0</td>\n",
       "    </tr>\n",
       "    <tr>\n",
       "      <th>c579d4d7-3cc2-4feb-945e-77cd663394da</th>\n",
       "      <td>0</td>\n",
       "    </tr>\n",
       "    <tr>\n",
       "      <th>c593b829-393b-4bf6-96e3-298b381f4848</th>\n",
       "      <td>0</td>\n",
       "    </tr>\n",
       "    <tr>\n",
       "      <th>d47bbc2f-3b9b-455d-b947-cde814fd1285</th>\n",
       "      <td>0</td>\n",
       "    </tr>\n",
       "    <tr>\n",
       "      <th>db0be360-f859-474d-a1ae-61e1dfbf92d3</th>\n",
       "      <td>0</td>\n",
       "    </tr>\n",
       "    <tr>\n",
       "      <th>df3cc56d-76a6-47bf-8b7c-28da79a5399d</th>\n",
       "      <td>0</td>\n",
       "    </tr>\n",
       "    <tr>\n",
       "      <th>e80b422f-f817-4309-9388-90c46e2d536f</th>\n",
       "      <td>0</td>\n",
       "    </tr>\n",
       "    <tr>\n",
       "      <th>f9960cae-e61d-49a4-afff-b72f98f8fddb</th>\n",
       "      <td>0</td>\n",
       "    </tr>\n",
       "  </tbody>\n",
       "</table>\n",
       "</div>"
      ],
      "text/plain": [
       "                                      progress_id\n",
       "user_id                                          \n",
       "0769e17e-c434-424e-9bfa-aa30afa0e38f            0\n",
       "18c1057d-9681-423f-8655-b6526e03a8a1            0\n",
       "1c7a50e1-26be-49aa-8f29-08054ebea82c            0\n",
       "31a54a4f-9ab5-4f44-8e4c-0f1f235ede4e            0\n",
       "338cddca-9601-489b-9dcc-5000a70ee3ad            0\n",
       "34675991-1b56-4b10-bf3e-061c5760579e            0\n",
       "41d85674-488b-42dc-bfb2-18154f6abe91            0\n",
       "4f3bebd4-1384-4ea5-9cd0-d7124ad5d113            0\n",
       "4f96fecf-30c5-48d3-ae67-4468f6227ecd            0\n",
       "5420126c-95b6-4220-b606-d9501e96cc00            0\n",
       "6002869e-40e7-45b1-aa6c-d522725aa626            0\n",
       "63bb6950-6fb7-4d22-86c6-e31f2df4608c            0\n",
       "7370d754-5ea7-480e-9711-7cde98ab9ccc            0\n",
       "7a0b6995-990d-43ad-91a3-b13e6f6b3894            0\n",
       "8a9b0e79-f28b-4a18-bdb3-19197c4b565b            0\n",
       "91b2df63-06e3-40e5-bfda-2a429d2862b8            0\n",
       "968e8d3c-2fd0-4c0a-891c-9d6e73c46036            0\n",
       "9ea19422-4a2f-4500-86e3-ef8a6fb66029            0\n",
       "a9f44619-d8fa-4756-b19a-18ee2ce3208a            0\n",
       "b558cad2-be68-4eb6-a2a8-79b3e335f126            0\n",
       "c579d4d7-3cc2-4feb-945e-77cd663394da            0\n",
       "c593b829-393b-4bf6-96e3-298b381f4848            0\n",
       "d47bbc2f-3b9b-455d-b947-cde814fd1285            0\n",
       "db0be360-f859-474d-a1ae-61e1dfbf92d3            0\n",
       "df3cc56d-76a6-47bf-8b7c-28da79a5399d            0\n",
       "e80b422f-f817-4309-9388-90c46e2d536f            0\n",
       "f9960cae-e61d-49a4-afff-b72f98f8fddb            0"
      ]
     },
     "execution_count": 22,
     "metadata": {},
     "output_type": "execute_result"
    }
   ],
   "source": [
    "print(ads.progress_id.nunique())\n",
    "print(ads.user_id.nunique())\n",
    "print('user_id with nulls', ads[ads.progress_id.isnull()].user_id.nunique)\n",
    "\n",
    "ads[ads.progress_id.isnull()].groupby('user_id').agg({'progress_id':'nunique'})"
   ]
  },
  {
   "cell_type": "code",
   "execution_count": 33,
   "metadata": {},
   "outputs": [],
   "source": [
    "def create_daily_plot(df: pd.DataFrame, groups: list[str], metric: str, function: list[str]) -> px.line:\n",
    "    \"\"\"\n",
    "    Create a daily line plot from a pandas DataFrame.\n",
    "    \n",
    "    Parameters:\n",
    "        df (pd.DataFrame): The DataFrame containing the data.\n",
    "        groups (list[str]): List of column names to group by.\n",
    "        metric (str): The column name of the metric to plot.\n",
    "        function (list[str]): List of aggregation functions to apply.\n",
    "        \n",
    "    Returns:\n",
    "        px.line: A Plotly line plot.\n",
    "    \"\"\"\n",
    "    try:\n",
    "        grouped = df.groupby(groups).agg({metric: function}).reset_index()\n",
    "        grouped.columns = groups + [metric]\n",
    "        \n",
    "        if len(groups) == 2:\n",
    "            line = px.line(grouped, x=groups[0], y=metric, color=groups[1])\n",
    "        elif len(groups) == 1:\n",
    "            line = px.line(grouped, x=groups[0], y=metric)\n",
    "            \n",
    "        line.update_traces(mode='markers+lines')\n",
    "        line.update_layout(legend=dict(\n",
    "            orientation=\"h\",\n",
    "            yanchor=\"bottom\",\n",
    "            y=1.02,\n",
    "            xanchor=\"right\",\n",
    "            x=1,\n",
    "        ))\n",
    "        \n",
    "        return line\n",
    "    \n",
    "    except Exception as e:\n",
    "        print(f\"An error occurred: {e}\")\n",
    "    "
   ]
  },
  {
   "cell_type": "code",
   "execution_count": 36,
   "metadata": {},
   "outputs": [
    {
     "data": {
      "text/plain": [
       "pandas.core.frame.DataFrame"
      ]
     },
     "execution_count": 36,
     "metadata": {},
     "output_type": "execute_result"
    }
   ],
   "source": [
    "type(ads)"
   ]
  },
  {
   "cell_type": "code",
   "execution_count": 59,
   "metadata": {},
   "outputs": [
    {
     "ename": "ValueError",
     "evalue": "Mime type rendering requires nbformat>=4.2.0 but it is not installed",
     "output_type": "error",
     "traceback": [
      "\u001b[1;31m---------------------------------------------------------------------------\u001b[0m",
      "\u001b[1;31mValueError\u001b[0m                                Traceback (most recent call last)",
      "File \u001b[1;32m~\\AppData\\Roaming\\Python\\Python312\\site-packages\\IPython\\core\\formatters.py:922\u001b[0m, in \u001b[0;36mIPythonDisplayFormatter.__call__\u001b[1;34m(self, obj)\u001b[0m\n\u001b[0;32m    920\u001b[0m method \u001b[38;5;241m=\u001b[39m get_real_method(obj, \u001b[38;5;28mself\u001b[39m\u001b[38;5;241m.\u001b[39mprint_method)\n\u001b[0;32m    921\u001b[0m \u001b[38;5;28;01mif\u001b[39;00m method \u001b[38;5;129;01mis\u001b[39;00m \u001b[38;5;129;01mnot\u001b[39;00m \u001b[38;5;28;01mNone\u001b[39;00m:\n\u001b[1;32m--> 922\u001b[0m     \u001b[43mmethod\u001b[49m\u001b[43m(\u001b[49m\u001b[43m)\u001b[49m\n\u001b[0;32m    923\u001b[0m     \u001b[38;5;28;01mreturn\u001b[39;00m \u001b[38;5;28;01mTrue\u001b[39;00m\n",
      "File \u001b[1;32mc:\\Users\\esteb\\AppData\\Local\\Programs\\Python\\Python312\\Lib\\site-packages\\plotly\\basedatatypes.py:832\u001b[0m, in \u001b[0;36mBaseFigure._ipython_display_\u001b[1;34m(self)\u001b[0m\n\u001b[0;32m    829\u001b[0m \u001b[38;5;28;01mimport\u001b[39;00m \u001b[38;5;21;01mplotly\u001b[39;00m\u001b[38;5;21;01m.\u001b[39;00m\u001b[38;5;21;01mio\u001b[39;00m \u001b[38;5;28;01mas\u001b[39;00m \u001b[38;5;21;01mpio\u001b[39;00m\n\u001b[0;32m    831\u001b[0m \u001b[38;5;28;01mif\u001b[39;00m pio\u001b[38;5;241m.\u001b[39mrenderers\u001b[38;5;241m.\u001b[39mrender_on_display \u001b[38;5;129;01mand\u001b[39;00m pio\u001b[38;5;241m.\u001b[39mrenderers\u001b[38;5;241m.\u001b[39mdefault:\n\u001b[1;32m--> 832\u001b[0m     \u001b[43mpio\u001b[49m\u001b[38;5;241;43m.\u001b[39;49m\u001b[43mshow\u001b[49m\u001b[43m(\u001b[49m\u001b[38;5;28;43mself\u001b[39;49m\u001b[43m)\u001b[49m\n\u001b[0;32m    833\u001b[0m \u001b[38;5;28;01melse\u001b[39;00m:\n\u001b[0;32m    834\u001b[0m     \u001b[38;5;28mprint\u001b[39m(\u001b[38;5;28mrepr\u001b[39m(\u001b[38;5;28mself\u001b[39m))\n",
      "File \u001b[1;32mc:\\Users\\esteb\\AppData\\Local\\Programs\\Python\\Python312\\Lib\\site-packages\\plotly\\io\\_renderers.py:394\u001b[0m, in \u001b[0;36mshow\u001b[1;34m(fig, renderer, validate, **kwargs)\u001b[0m\n\u001b[0;32m    389\u001b[0m         \u001b[38;5;28;01mraise\u001b[39;00m \u001b[38;5;167;01mValueError\u001b[39;00m(\n\u001b[0;32m    390\u001b[0m             \u001b[38;5;124m\"\u001b[39m\u001b[38;5;124mMime type rendering requires ipython but it is not installed\u001b[39m\u001b[38;5;124m\"\u001b[39m\n\u001b[0;32m    391\u001b[0m         )\n\u001b[0;32m    393\u001b[0m     \u001b[38;5;28;01mif\u001b[39;00m \u001b[38;5;129;01mnot\u001b[39;00m nbformat \u001b[38;5;129;01mor\u001b[39;00m Version(nbformat\u001b[38;5;241m.\u001b[39m__version__) \u001b[38;5;241m<\u001b[39m Version(\u001b[38;5;124m\"\u001b[39m\u001b[38;5;124m4.2.0\u001b[39m\u001b[38;5;124m\"\u001b[39m):\n\u001b[1;32m--> 394\u001b[0m         \u001b[38;5;28;01mraise\u001b[39;00m \u001b[38;5;167;01mValueError\u001b[39;00m(\n\u001b[0;32m    395\u001b[0m             \u001b[38;5;124m\"\u001b[39m\u001b[38;5;124mMime type rendering requires nbformat>=4.2.0 but it is not installed\u001b[39m\u001b[38;5;124m\"\u001b[39m\n\u001b[0;32m    396\u001b[0m         )\n\u001b[0;32m    398\u001b[0m     ipython_display\u001b[38;5;241m.\u001b[39mdisplay(bundle, raw\u001b[38;5;241m=\u001b[39m\u001b[38;5;28;01mTrue\u001b[39;00m)\n\u001b[0;32m    400\u001b[0m \u001b[38;5;66;03m# external renderers\u001b[39;00m\n",
      "\u001b[1;31mValueError\u001b[0m: Mime type rendering requires nbformat>=4.2.0 but it is not installed"
     ]
    },
    {
     "data": {
      "application/vnd.plotly.v1+json": {
       "config": {
        "plotlyServerURL": "https://plot.ly"
       },
       "data": [
        {
         "alignmentgroup": "True",
         "hovertemplate": "event=reward:collected<br>date=%{x}<br>coins=%{y}<extra></extra>",
         "legendgroup": "reward:collected",
         "marker": {
          "color": "#000001",
          "pattern": {
           "shape": ""
          }
         },
         "name": "reward:collected",
         "offsetgroup": "reward:collected",
         "orientation": "v",
         "showlegend": true,
         "textposition": "auto",
         "type": "bar",
         "x": [
          "2024-01-26T00:00:00",
          "2024-01-27T00:00:00",
          "2024-01-28T00:00:00",
          "2024-01-29T00:00:00",
          "2024-01-30T00:00:00",
          "2024-01-31T00:00:00",
          "2024-02-01T00:00:00",
          "2024-02-02T00:00:00",
          "2024-02-03T00:00:00",
          "2024-02-04T00:00:00",
          "2024-02-05T00:00:00",
          "2024-02-06T00:00:00",
          "2024-02-07T00:00:00",
          "2024-02-08T00:00:00",
          "2024-02-09T00:00:00"
         ],
         "xaxis": "x",
         "y": [
          2856775,
          2240044,
          2207550,
          1939910,
          1752335,
          1501622,
          1422716,
          1491058,
          1393885,
          1487163,
          1232190,
          1571227,
          2528249,
          996157,
          891328
         ],
         "yaxis": "y"
        },
        {
         "alignmentgroup": "True",
         "hovertemplate": "event=reward:used<br>date=%{x}<br>coins=%{y}<extra></extra>",
         "legendgroup": "reward:used",
         "marker": {
          "color": "#000002",
          "pattern": {
           "shape": ""
          }
         },
         "name": "reward:used",
         "offsetgroup": "reward:used",
         "orientation": "v",
         "showlegend": true,
         "textposition": "auto",
         "type": "bar",
         "x": [
          "2024-01-26T00:00:00",
          "2024-01-27T00:00:00",
          "2024-01-28T00:00:00",
          "2024-01-29T00:00:00",
          "2024-01-30T00:00:00",
          "2024-01-31T00:00:00",
          "2024-02-01T00:00:00",
          "2024-02-02T00:00:00",
          "2024-02-03T00:00:00",
          "2024-02-04T00:00:00",
          "2024-02-05T00:00:00",
          "2024-02-06T00:00:00",
          "2024-02-07T00:00:00",
          "2024-02-08T00:00:00",
          "2024-02-09T00:00:00"
         ],
         "xaxis": "x",
         "y": [
          -2040750,
          -1907950,
          -1830500,
          -1559500,
          -1528800,
          -1274000,
          -1171850,
          -1112850,
          -1139450,
          -1350000,
          -1060400,
          -985400,
          -820700,
          -703700,
          -667000
         ],
         "yaxis": "y"
        }
       ],
       "layout": {
        "barmode": "relative",
        "legend": {
         "title": {
          "text": "event"
         },
         "tracegroupgap": 0
        },
        "margin": {
         "t": 60
        },
        "template": {
         "data": {
          "candlestick": [
           {
            "decreasing": {
             "line": {
              "color": "#000033"
             }
            },
            "increasing": {
             "line": {
              "color": "#000032"
             }
            },
            "type": "candlestick"
           }
          ],
          "contour": [
           {
            "colorscale": [
             [
              0,
              "#000011"
             ],
             [
              0.1111111111111111,
              "#000012"
             ],
             [
              0.2222222222222222,
              "#000013"
             ],
             [
              0.3333333333333333,
              "#000014"
             ],
             [
              0.4444444444444444,
              "#000015"
             ],
             [
              0.5555555555555556,
              "#000016"
             ],
             [
              0.6666666666666666,
              "#000017"
             ],
             [
              0.7777777777777778,
              "#000018"
             ],
             [
              0.8888888888888888,
              "#000019"
             ],
             [
              1,
              "#000020"
             ]
            ],
            "type": "contour"
           }
          ],
          "contourcarpet": [
           {
            "colorscale": [
             [
              0,
              "#000011"
             ],
             [
              0.1111111111111111,
              "#000012"
             ],
             [
              0.2222222222222222,
              "#000013"
             ],
             [
              0.3333333333333333,
              "#000014"
             ],
             [
              0.4444444444444444,
              "#000015"
             ],
             [
              0.5555555555555556,
              "#000016"
             ],
             [
              0.6666666666666666,
              "#000017"
             ],
             [
              0.7777777777777778,
              "#000018"
             ],
             [
              0.8888888888888888,
              "#000019"
             ],
             [
              1,
              "#000020"
             ]
            ],
            "type": "contourcarpet"
           }
          ],
          "heatmap": [
           {
            "colorscale": [
             [
              0,
              "#000011"
             ],
             [
              0.1111111111111111,
              "#000012"
             ],
             [
              0.2222222222222222,
              "#000013"
             ],
             [
              0.3333333333333333,
              "#000014"
             ],
             [
              0.4444444444444444,
              "#000015"
             ],
             [
              0.5555555555555556,
              "#000016"
             ],
             [
              0.6666666666666666,
              "#000017"
             ],
             [
              0.7777777777777778,
              "#000018"
             ],
             [
              0.8888888888888888,
              "#000019"
             ],
             [
              1,
              "#000020"
             ]
            ],
            "type": "heatmap"
           }
          ],
          "histogram2d": [
           {
            "colorscale": [
             [
              0,
              "#000011"
             ],
             [
              0.1111111111111111,
              "#000012"
             ],
             [
              0.2222222222222222,
              "#000013"
             ],
             [
              0.3333333333333333,
              "#000014"
             ],
             [
              0.4444444444444444,
              "#000015"
             ],
             [
              0.5555555555555556,
              "#000016"
             ],
             [
              0.6666666666666666,
              "#000017"
             ],
             [
              0.7777777777777778,
              "#000018"
             ],
             [
              0.8888888888888888,
              "#000019"
             ],
             [
              1,
              "#000020"
             ]
            ],
            "type": "histogram2d"
           }
          ],
          "icicle": [
           {
            "textfont": {
             "color": "white"
            },
            "type": "icicle"
           }
          ],
          "sankey": [
           {
            "textfont": {
             "color": "#000036"
            },
            "type": "sankey"
           }
          ],
          "scatter": [
           {
            "marker": {
             "line": {
              "width": 0
             }
            },
            "type": "scatter"
           }
          ],
          "table": [
           {
            "cells": {
             "fill": {
              "color": "#000038"
             },
             "font": {
              "color": "#000037"
             },
             "line": {
              "color": "#000039"
             }
            },
            "header": {
             "fill": {
              "color": "#000040"
             },
             "font": {
              "color": "#000036"
             },
             "line": {
              "color": "#000039"
             }
            },
            "type": "table"
           }
          ],
          "waterfall": [
           {
            "connector": {
             "line": {
              "color": "#000036",
              "width": 2
             }
            },
            "decreasing": {
             "marker": {
              "color": "#000033"
             }
            },
            "increasing": {
             "marker": {
              "color": "#000032"
             }
            },
            "totals": {
             "marker": {
              "color": "#000034"
             }
            },
            "type": "waterfall"
           }
          ]
         },
         "layout": {
          "coloraxis": {
           "colorscale": [
            [
             0,
             "#000011"
            ],
            [
             0.1111111111111111,
             "#000012"
            ],
            [
             0.2222222222222222,
             "#000013"
            ],
            [
             0.3333333333333333,
             "#000014"
            ],
            [
             0.4444444444444444,
             "#000015"
            ],
            [
             0.5555555555555556,
             "#000016"
            ],
            [
             0.6666666666666666,
             "#000017"
            ],
            [
             0.7777777777777778,
             "#000018"
            ],
            [
             0.8888888888888888,
             "#000019"
            ],
            [
             1,
             "#000020"
            ]
           ]
          },
          "colorscale": {
           "diverging": [
            [
             0,
             "#000021"
            ],
            [
             0.1,
             "#000022"
            ],
            [
             0.2,
             "#000023"
            ],
            [
             0.3,
             "#000024"
            ],
            [
             0.4,
             "#000025"
            ],
            [
             0.5,
             "#000026"
            ],
            [
             0.6,
             "#000027"
            ],
            [
             0.7,
             "#000028"
            ],
            [
             0.8,
             "#000029"
            ],
            [
             0.9,
             "#000030"
            ],
            [
             1,
             "#000031"
            ]
           ],
           "sequential": [
            [
             0,
             "#000011"
            ],
            [
             0.1111111111111111,
             "#000012"
            ],
            [
             0.2222222222222222,
             "#000013"
            ],
            [
             0.3333333333333333,
             "#000014"
            ],
            [
             0.4444444444444444,
             "#000015"
            ],
            [
             0.5555555555555556,
             "#000016"
            ],
            [
             0.6666666666666666,
             "#000017"
            ],
            [
             0.7777777777777778,
             "#000018"
            ],
            [
             0.8888888888888888,
             "#000019"
            ],
            [
             1,
             "#000020"
            ]
           ],
           "sequentialminus": [
            [
             0,
             "#000011"
            ],
            [
             0.1111111111111111,
             "#000012"
            ],
            [
             0.2222222222222222,
             "#000013"
            ],
            [
             0.3333333333333333,
             "#000014"
            ],
            [
             0.4444444444444444,
             "#000015"
            ],
            [
             0.5555555555555556,
             "#000016"
            ],
            [
             0.6666666666666666,
             "#000017"
            ],
            [
             0.7777777777777778,
             "#000018"
            ],
            [
             0.8888888888888888,
             "#000019"
            ],
            [
             1,
             "#000020"
            ]
           ]
          },
          "colorway": [
           "#000001",
           "#000002",
           "#000003",
           "#000004",
           "#000005",
           "#000006",
           "#000007",
           "#000008",
           "#000009",
           "#000010"
          ]
         }
        },
        "xaxis": {
         "anchor": "y",
         "domain": [
          0,
          1
         ],
         "title": {
          "text": "date"
         }
        },
        "yaxis": {
         "anchor": "x",
         "domain": [
          0,
          1
         ],
         "title": {
          "text": "coins"
         }
        }
       }
      },
      "text/html": [
       "<div>                        <script type=\"text/javascript\">window.PlotlyConfig = {MathJaxConfig: 'local'};</script>\n",
       "        <script charset=\"utf-8\" src=\"https://cdn.plot.ly/plotly-2.27.0.min.js\"></script>                <div id=\"d77cd002-981a-415b-9855-5f8f67519123\" class=\"plotly-graph-div\" style=\"height:100%; width:100%;\"></div>            <script type=\"text/javascript\">                                    window.PLOTLYENV=window.PLOTLYENV || {};                                    if (document.getElementById(\"d77cd002-981a-415b-9855-5f8f67519123\")) {                    Plotly.newPlot(                        \"d77cd002-981a-415b-9855-5f8f67519123\",                        [{\"alignmentgroup\":\"True\",\"hovertemplate\":\"event=reward:collected\\u003cbr\\u003edate=%{x}\\u003cbr\\u003ecoins=%{y}\\u003cextra\\u003e\\u003c\\u002fextra\\u003e\",\"legendgroup\":\"reward:collected\",\"marker\":{\"color\":\"#000001\",\"pattern\":{\"shape\":\"\"}},\"name\":\"reward:collected\",\"offsetgroup\":\"reward:collected\",\"orientation\":\"v\",\"showlegend\":true,\"textposition\":\"auto\",\"x\":[\"2024-01-26T00:00:00\",\"2024-01-27T00:00:00\",\"2024-01-28T00:00:00\",\"2024-01-29T00:00:00\",\"2024-01-30T00:00:00\",\"2024-01-31T00:00:00\",\"2024-02-01T00:00:00\",\"2024-02-02T00:00:00\",\"2024-02-03T00:00:00\",\"2024-02-04T00:00:00\",\"2024-02-05T00:00:00\",\"2024-02-06T00:00:00\",\"2024-02-07T00:00:00\",\"2024-02-08T00:00:00\",\"2024-02-09T00:00:00\"],\"xaxis\":\"x\",\"y\":[2856775,2240044,2207550,1939910,1752335,1501622,1422716,1491058,1393885,1487163,1232190,1571227,2528249,996157,891328],\"yaxis\":\"y\",\"type\":\"bar\"},{\"alignmentgroup\":\"True\",\"hovertemplate\":\"event=reward:used\\u003cbr\\u003edate=%{x}\\u003cbr\\u003ecoins=%{y}\\u003cextra\\u003e\\u003c\\u002fextra\\u003e\",\"legendgroup\":\"reward:used\",\"marker\":{\"color\":\"#000002\",\"pattern\":{\"shape\":\"\"}},\"name\":\"reward:used\",\"offsetgroup\":\"reward:used\",\"orientation\":\"v\",\"showlegend\":true,\"textposition\":\"auto\",\"x\":[\"2024-01-26T00:00:00\",\"2024-01-27T00:00:00\",\"2024-01-28T00:00:00\",\"2024-01-29T00:00:00\",\"2024-01-30T00:00:00\",\"2024-01-31T00:00:00\",\"2024-02-01T00:00:00\",\"2024-02-02T00:00:00\",\"2024-02-03T00:00:00\",\"2024-02-04T00:00:00\",\"2024-02-05T00:00:00\",\"2024-02-06T00:00:00\",\"2024-02-07T00:00:00\",\"2024-02-08T00:00:00\",\"2024-02-09T00:00:00\"],\"xaxis\":\"x\",\"y\":[-2040750,-1907950,-1830500,-1559500,-1528800,-1274000,-1171850,-1112850,-1139450,-1350000,-1060400,-985400,-820700,-703700,-667000],\"yaxis\":\"y\",\"type\":\"bar\"}],                        {\"template\":{\"data\":{\"candlestick\":[{\"decreasing\":{\"line\":{\"color\":\"#000033\"}},\"increasing\":{\"line\":{\"color\":\"#000032\"}},\"type\":\"candlestick\"}],\"contourcarpet\":[{\"colorscale\":[[0.0,\"#000011\"],[0.1111111111111111,\"#000012\"],[0.2222222222222222,\"#000013\"],[0.3333333333333333,\"#000014\"],[0.4444444444444444,\"#000015\"],[0.5555555555555556,\"#000016\"],[0.6666666666666666,\"#000017\"],[0.7777777777777778,\"#000018\"],[0.8888888888888888,\"#000019\"],[1.0,\"#000020\"]],\"type\":\"contourcarpet\"}],\"contour\":[{\"colorscale\":[[0.0,\"#000011\"],[0.1111111111111111,\"#000012\"],[0.2222222222222222,\"#000013\"],[0.3333333333333333,\"#000014\"],[0.4444444444444444,\"#000015\"],[0.5555555555555556,\"#000016\"],[0.6666666666666666,\"#000017\"],[0.7777777777777778,\"#000018\"],[0.8888888888888888,\"#000019\"],[1.0,\"#000020\"]],\"type\":\"contour\"}],\"heatmap\":[{\"colorscale\":[[0.0,\"#000011\"],[0.1111111111111111,\"#000012\"],[0.2222222222222222,\"#000013\"],[0.3333333333333333,\"#000014\"],[0.4444444444444444,\"#000015\"],[0.5555555555555556,\"#000016\"],[0.6666666666666666,\"#000017\"],[0.7777777777777778,\"#000018\"],[0.8888888888888888,\"#000019\"],[1.0,\"#000020\"]],\"type\":\"heatmap\"}],\"histogram2d\":[{\"colorscale\":[[0.0,\"#000011\"],[0.1111111111111111,\"#000012\"],[0.2222222222222222,\"#000013\"],[0.3333333333333333,\"#000014\"],[0.4444444444444444,\"#000015\"],[0.5555555555555556,\"#000016\"],[0.6666666666666666,\"#000017\"],[0.7777777777777778,\"#000018\"],[0.8888888888888888,\"#000019\"],[1.0,\"#000020\"]],\"type\":\"histogram2d\"}],\"icicle\":[{\"textfont\":{\"color\":\"white\"},\"type\":\"icicle\"}],\"sankey\":[{\"textfont\":{\"color\":\"#000036\"},\"type\":\"sankey\"}],\"scatter\":[{\"marker\":{\"line\":{\"width\":0}},\"type\":\"scatter\"}],\"table\":[{\"cells\":{\"fill\":{\"color\":\"#000038\"},\"font\":{\"color\":\"#000037\"},\"line\":{\"color\":\"#000039\"}},\"header\":{\"fill\":{\"color\":\"#000040\"},\"font\":{\"color\":\"#000036\"},\"line\":{\"color\":\"#000039\"}},\"type\":\"table\"}],\"waterfall\":[{\"connector\":{\"line\":{\"color\":\"#000036\",\"width\":2}},\"decreasing\":{\"marker\":{\"color\":\"#000033\"}},\"increasing\":{\"marker\":{\"color\":\"#000032\"}},\"totals\":{\"marker\":{\"color\":\"#000034\"}},\"type\":\"waterfall\"}]},\"layout\":{\"coloraxis\":{\"colorscale\":[[0.0,\"#000011\"],[0.1111111111111111,\"#000012\"],[0.2222222222222222,\"#000013\"],[0.3333333333333333,\"#000014\"],[0.4444444444444444,\"#000015\"],[0.5555555555555556,\"#000016\"],[0.6666666666666666,\"#000017\"],[0.7777777777777778,\"#000018\"],[0.8888888888888888,\"#000019\"],[1.0,\"#000020\"]]},\"colorscale\":{\"diverging\":[[0.0,\"#000021\"],[0.1,\"#000022\"],[0.2,\"#000023\"],[0.3,\"#000024\"],[0.4,\"#000025\"],[0.5,\"#000026\"],[0.6,\"#000027\"],[0.7,\"#000028\"],[0.8,\"#000029\"],[0.9,\"#000030\"],[1.0,\"#000031\"]],\"sequential\":[[0.0,\"#000011\"],[0.1111111111111111,\"#000012\"],[0.2222222222222222,\"#000013\"],[0.3333333333333333,\"#000014\"],[0.4444444444444444,\"#000015\"],[0.5555555555555556,\"#000016\"],[0.6666666666666666,\"#000017\"],[0.7777777777777778,\"#000018\"],[0.8888888888888888,\"#000019\"],[1.0,\"#000020\"]],\"sequentialminus\":[[0.0,\"#000011\"],[0.1111111111111111,\"#000012\"],[0.2222222222222222,\"#000013\"],[0.3333333333333333,\"#000014\"],[0.4444444444444444,\"#000015\"],[0.5555555555555556,\"#000016\"],[0.6666666666666666,\"#000017\"],[0.7777777777777778,\"#000018\"],[0.8888888888888888,\"#000019\"],[1.0,\"#000020\"]]},\"colorway\":[\"#000001\",\"#000002\",\"#000003\",\"#000004\",\"#000005\",\"#000006\",\"#000007\",\"#000008\",\"#000009\",\"#000010\"]}},\"xaxis\":{\"anchor\":\"y\",\"domain\":[0.0,1.0],\"title\":{\"text\":\"date\"}},\"yaxis\":{\"anchor\":\"x\",\"domain\":[0.0,1.0],\"title\":{\"text\":\"coins\"}},\"legend\":{\"title\":{\"text\":\"event\"},\"tracegroupgap\":0},\"margin\":{\"t\":60},\"barmode\":\"relative\"},                        {\"responsive\": true}                    )                };                            </script>        </div>"
      ],
      "text/plain": [
       "Figure({\n",
       "    'data': [{'alignmentgroup': 'True',\n",
       "              'hovertemplate': 'event=reward:collected<br>date=%{x}<br>coins=%{y}<extra></extra>',\n",
       "              'legendgroup': 'reward:collected',\n",
       "              'marker': {'color': '#000001', 'pattern': {'shape': ''}},\n",
       "              'name': 'reward:collected',\n",
       "              'offsetgroup': 'reward:collected',\n",
       "              'orientation': 'v',\n",
       "              'showlegend': True,\n",
       "              'textposition': 'auto',\n",
       "              'type': 'bar',\n",
       "              'x': array([datetime.datetime(2024, 1, 26, 0, 0),\n",
       "                          datetime.datetime(2024, 1, 27, 0, 0),\n",
       "                          datetime.datetime(2024, 1, 28, 0, 0),\n",
       "                          datetime.datetime(2024, 1, 29, 0, 0),\n",
       "                          datetime.datetime(2024, 1, 30, 0, 0),\n",
       "                          datetime.datetime(2024, 1, 31, 0, 0),\n",
       "                          datetime.datetime(2024, 2, 1, 0, 0),\n",
       "                          datetime.datetime(2024, 2, 2, 0, 0),\n",
       "                          datetime.datetime(2024, 2, 3, 0, 0),\n",
       "                          datetime.datetime(2024, 2, 4, 0, 0),\n",
       "                          datetime.datetime(2024, 2, 5, 0, 0),\n",
       "                          datetime.datetime(2024, 2, 6, 0, 0),\n",
       "                          datetime.datetime(2024, 2, 7, 0, 0),\n",
       "                          datetime.datetime(2024, 2, 8, 0, 0),\n",
       "                          datetime.datetime(2024, 2, 9, 0, 0)], dtype=object),\n",
       "              'xaxis': 'x',\n",
       "              'y': array([2856775, 2240044, 2207550, 1939910, 1752335, 1501622, 1422716, 1491058,\n",
       "                          1393885, 1487163, 1232190, 1571227, 2528249,  996157,  891328],\n",
       "                         dtype=int64),\n",
       "              'yaxis': 'y'},\n",
       "             {'alignmentgroup': 'True',\n",
       "              'hovertemplate': 'event=reward:used<br>date=%{x}<br>coins=%{y}<extra></extra>',\n",
       "              'legendgroup': 'reward:used',\n",
       "              'marker': {'color': '#000002', 'pattern': {'shape': ''}},\n",
       "              'name': 'reward:used',\n",
       "              'offsetgroup': 'reward:used',\n",
       "              'orientation': 'v',\n",
       "              'showlegend': True,\n",
       "              'textposition': 'auto',\n",
       "              'type': 'bar',\n",
       "              'x': array([datetime.datetime(2024, 1, 26, 0, 0),\n",
       "                          datetime.datetime(2024, 1, 27, 0, 0),\n",
       "                          datetime.datetime(2024, 1, 28, 0, 0),\n",
       "                          datetime.datetime(2024, 1, 29, 0, 0),\n",
       "                          datetime.datetime(2024, 1, 30, 0, 0),\n",
       "                          datetime.datetime(2024, 1, 31, 0, 0),\n",
       "                          datetime.datetime(2024, 2, 1, 0, 0),\n",
       "                          datetime.datetime(2024, 2, 2, 0, 0),\n",
       "                          datetime.datetime(2024, 2, 3, 0, 0),\n",
       "                          datetime.datetime(2024, 2, 4, 0, 0),\n",
       "                          datetime.datetime(2024, 2, 5, 0, 0),\n",
       "                          datetime.datetime(2024, 2, 6, 0, 0),\n",
       "                          datetime.datetime(2024, 2, 7, 0, 0),\n",
       "                          datetime.datetime(2024, 2, 8, 0, 0),\n",
       "                          datetime.datetime(2024, 2, 9, 0, 0)], dtype=object),\n",
       "              'xaxis': 'x',\n",
       "              'y': array([-2040750, -1907950, -1830500, -1559500, -1528800, -1274000, -1171850,\n",
       "                          -1112850, -1139450, -1350000, -1060400,  -985400,  -820700,  -703700,\n",
       "                           -667000], dtype=int64),\n",
       "              'yaxis': 'y'}],\n",
       "    'layout': {'barmode': 'relative',\n",
       "               'legend': {'title': {'text': 'event'}, 'tracegroupgap': 0},\n",
       "               'margin': {'t': 60},\n",
       "               'template': '...',\n",
       "               'xaxis': {'anchor': 'y', 'domain': [0.0, 1.0], 'title': {'text': 'date'}},\n",
       "               'yaxis': {'anchor': 'x', 'domain': [0.0, 1.0], 'title': {'text': 'coins'}}}\n",
       "})"
      ]
     },
     "execution_count": 59,
     "metadata": {},
     "output_type": "execute_result"
    }
   ],
   "source": [
    "# Coins \n",
    "import pandas as pd\n",
    "from helpers.coins import *\n",
    "coins = './data/coins/coins.csv'\n",
    "df= pd.read_csv(coins).\n",
    "\n",
    "def tweak_df(df):\n",
    "    return (\n",
    "        df.assign(\n",
    "        created_date = lambda df_: pd.to_datetime(df_.created_date,format='%Y-%m-%d'),\n",
    "        date = lambda df_:pd.to_datetime(df_.date,format='%Y-%m-%d'),\n",
    "        event_time = lambda df_:pd.to_datetime(df_.event_time.str.replace(' UTC',''), format=\"ISO8601\"))\n",
    "        )\n",
    "\n",
    "# Daily coins flow\n",
    "daily_coins = df.assign(\n",
    "    created_date = lambda df_: pd.to_datetime(df_.created_date,format='%Y-%m-%d'),\n",
    "    date = lambda df_:pd.to_datetime(df_.date,format='%Y-%m-%d'),\n",
    "    event_time = lambda df_:pd.to_datetime(df_.event_time.str.replace(' UTC',''), format=\"ISO8601\")\n",
    ").groupby(['date','event'])['coins'].sum().reset_index()\n",
    "\n",
    "fig = px.bar(daily_coins, x='date', y='coins',color='event')\n",
    "\n",
    "\n"
   ]
  },
  {
   "cell_type": "code",
   "execution_count": 26,
   "metadata": {},
   "outputs": [
    {
     "data": {
      "text/plain": [
       "attempt                       62\n",
       "lvl_name                      97\n",
       "case_num                    1151\n",
       "clue_num                    1151\n",
       "clue_name                   1151\n",
       "task_num                    1151\n",
       "attempt_number                 0\n",
       "device_inventory_name    1506911\n",
       "ad_type                        0\n",
       "ad_network                     2\n",
       "revenue                        2\n",
       "revenue_precision              2\n",
       "request_reason                 0\n",
       "show_reason                   15\n",
       "ad_placement                  50\n",
       "split                          0\n",
       "ab_test_variants               0\n",
       "retention_day                  0\n",
       "last_interaction_date          0\n",
       "days_inactive                  0\n",
       "dtype: int64"
      ]
     },
     "execution_count": 26,
     "metadata": {},
     "output_type": "execute_result"
    }
   ],
   "source": [
    "ads.isnull().sum().tail(20)"
   ]
  },
  {
   "cell_type": "code",
   "execution_count": 65,
   "metadata": {},
   "outputs": [],
   "source": [
    "coins = df[(df.event == 'reward:collected')].groupby(['reward_reason'])['coins'].sum().reset_index()\n",
    "def top_n_pie(df, n, default='others'):\n",
    "    sorted = df.sort_values(by=['coins'], ascending=False)\n",
    "    return df.reward_reason.where(df.reward_reason.isin(sorted.reward_reason[:n]), default)\n"
   ]
  },
  {
   "cell_type": "code",
   "execution_count": 71,
   "metadata": {},
   "outputs": [
    {
     "data": {
      "text/html": [
       "<div>\n",
       "<style scoped>\n",
       "    .dataframe tbody tr th:only-of-type {\n",
       "        vertical-align: middle;\n",
       "    }\n",
       "\n",
       "    .dataframe tbody tr th {\n",
       "        vertical-align: top;\n",
       "    }\n",
       "\n",
       "    .dataframe thead th {\n",
       "        text-align: right;\n",
       "    }\n",
       "</style>\n",
       "<table border=\"1\" class=\"dataframe\">\n",
       "  <thead>\n",
       "    <tr style=\"text-align: right;\">\n",
       "      <th></th>\n",
       "      <th>reward_reason</th>\n",
       "      <th>coins</th>\n",
       "    </tr>\n",
       "  </thead>\n",
       "  <tbody>\n",
       "    <tr>\n",
       "      <th>0</th>\n",
       "      <td>others</td>\n",
       "      <td>292500</td>\n",
       "    </tr>\n",
       "    <tr>\n",
       "      <th>1</th>\n",
       "      <td>others</td>\n",
       "      <td>216000</td>\n",
       "    </tr>\n",
       "    <tr>\n",
       "      <th>2</th>\n",
       "      <td>others</td>\n",
       "      <td>60000</td>\n",
       "    </tr>\n",
       "    <tr>\n",
       "      <th>3</th>\n",
       "      <td>others</td>\n",
       "      <td>50000</td>\n",
       "    </tr>\n",
       "    <tr>\n",
       "      <th>4</th>\n",
       "      <td>coin_100000</td>\n",
       "      <td>3625000</td>\n",
       "    </tr>\n",
       "    <tr>\n",
       "      <th>5</th>\n",
       "      <td>others</td>\n",
       "      <td>30000</td>\n",
       "    </tr>\n",
       "    <tr>\n",
       "      <th>6</th>\n",
       "      <td>others</td>\n",
       "      <td>180000</td>\n",
       "    </tr>\n",
       "    <tr>\n",
       "      <th>7</th>\n",
       "      <td>others</td>\n",
       "      <td>819000</td>\n",
       "    </tr>\n",
       "    <tr>\n",
       "      <th>8</th>\n",
       "      <td>level_completed</td>\n",
       "      <td>62934147</td>\n",
       "    </tr>\n",
       "    <tr>\n",
       "      <th>9</th>\n",
       "      <td>level_completed_double_reward</td>\n",
       "      <td>3579232</td>\n",
       "    </tr>\n",
       "    <tr>\n",
       "      <th>10</th>\n",
       "      <td>level_completed_tiple_reward</td>\n",
       "      <td>8765004</td>\n",
       "    </tr>\n",
       "    <tr>\n",
       "      <th>11</th>\n",
       "      <td>others</td>\n",
       "      <td>92780</td>\n",
       "    </tr>\n",
       "    <tr>\n",
       "      <th>12</th>\n",
       "      <td>others</td>\n",
       "      <td>812000</td>\n",
       "    </tr>\n",
       "    <tr>\n",
       "      <th>13</th>\n",
       "      <td>others</td>\n",
       "      <td>135000</td>\n",
       "    </tr>\n",
       "    <tr>\n",
       "      <th>14</th>\n",
       "      <td>the_goat</td>\n",
       "      <td>17160000</td>\n",
       "    </tr>\n",
       "  </tbody>\n",
       "</table>\n",
       "</div>"
      ],
      "text/plain": [
       "                    reward_reason     coins\n",
       "0                          others    292500\n",
       "1                          others    216000\n",
       "2                          others     60000\n",
       "3                          others     50000\n",
       "4                     coin_100000   3625000\n",
       "5                          others     30000\n",
       "6                          others    180000\n",
       "7                          others    819000\n",
       "8                 level_completed  62934147\n",
       "9   level_completed_double_reward   3579232\n",
       "10   level_completed_tiple_reward   8765004\n",
       "11                         others     92780\n",
       "12                         others    812000\n",
       "13                         others    135000\n",
       "14                       the_goat  17160000"
      ]
     },
     "execution_count": 71,
     "metadata": {},
     "output_type": "execute_result"
    }
   ],
   "source": [
    "default='others'\n",
    "n=7\n",
    "sorted=coins.sort_values(by=['coins'], ascending=False)\n",
    "coins.reward_reason.where(coins.reward_reason.isin(sorted.reward_reason[:n]), default)\n",
    "\n",
    "coins.assign(reward_reason= lambda df_:top_n_pie(df_,n=5) )"
   ]
  },
  {
   "cell_type": "code",
   "execution_count": 76,
   "metadata": {},
   "outputs": [
    {
     "data": {
      "text/plain": [
       "reward_reason\n",
       "level_completed                  1697235\n",
       "level_completed_tiple_reward       59175\n",
       "level_completed_double_reward      48323\n",
       "the_goat                             264\n",
       "piggy_bank_1_offer                   169\n",
       "csi_starter_kit                      126\n",
       "case_1_OTP                            45\n",
       "special_offer                         45\n",
       "coin_1000                             30\n",
       "professional_investigator             29\n",
       "coin_100000                           29\n",
       "case_1_special_offer                  24\n",
       "csi_professional_pack                 15\n",
       "coin_10000                             4\n",
       "coin_5000                              4\n",
       "Name: count, dtype: int64"
      ]
     },
     "execution_count": 76,
     "metadata": {},
     "output_type": "execute_result"
    }
   ],
   "source": [
    "df[df.event=='reward:collected'].reward_reason.value_counts()\n",
    "\n",
    "def top_n(ser, n, default='others'):\n",
    "    counts=ser.value_counts()\n",
    "    return ser.where(ser.isin(counts.index[:n]), default)"
   ]
  },
  {
   "cell_type": "code",
   "execution_count": 72,
   "metadata": {},
   "outputs": [
    {
     "data": {
      "text/html": [
       "<div>\n",
       "<style scoped>\n",
       "    .dataframe tbody tr th:only-of-type {\n",
       "        vertical-align: middle;\n",
       "    }\n",
       "\n",
       "    .dataframe tbody tr th {\n",
       "        vertical-align: top;\n",
       "    }\n",
       "\n",
       "    .dataframe thead th {\n",
       "        text-align: right;\n",
       "    }\n",
       "</style>\n",
       "<table border=\"1\" class=\"dataframe\">\n",
       "  <thead>\n",
       "    <tr style=\"text-align: right;\">\n",
       "      <th></th>\n",
       "      <th>reward_reason</th>\n",
       "      <th>coins</th>\n",
       "    </tr>\n",
       "  </thead>\n",
       "  <tbody>\n",
       "    <tr>\n",
       "      <th>0</th>\n",
       "      <td>case_1_OTP</td>\n",
       "      <td>292500</td>\n",
       "    </tr>\n",
       "    <tr>\n",
       "      <th>1</th>\n",
       "      <td>case_1_special_offer</td>\n",
       "      <td>216000</td>\n",
       "    </tr>\n",
       "    <tr>\n",
       "      <th>2</th>\n",
       "      <td>coin_1000</td>\n",
       "      <td>60000</td>\n",
       "    </tr>\n",
       "    <tr>\n",
       "      <th>3</th>\n",
       "      <td>coin_10000</td>\n",
       "      <td>50000</td>\n",
       "    </tr>\n",
       "    <tr>\n",
       "      <th>4</th>\n",
       "      <td>coin_100000</td>\n",
       "      <td>3625000</td>\n",
       "    </tr>\n",
       "    <tr>\n",
       "      <th>5</th>\n",
       "      <td>coin_5000</td>\n",
       "      <td>30000</td>\n",
       "    </tr>\n",
       "    <tr>\n",
       "      <th>6</th>\n",
       "      <td>csi_professional_pack</td>\n",
       "      <td>180000</td>\n",
       "    </tr>\n",
       "    <tr>\n",
       "      <th>7</th>\n",
       "      <td>csi_starter_kit</td>\n",
       "      <td>819000</td>\n",
       "    </tr>\n",
       "    <tr>\n",
       "      <th>8</th>\n",
       "      <td>level_completed</td>\n",
       "      <td>62934147</td>\n",
       "    </tr>\n",
       "    <tr>\n",
       "      <th>9</th>\n",
       "      <td>level_completed_double_reward</td>\n",
       "      <td>3579232</td>\n",
       "    </tr>\n",
       "    <tr>\n",
       "      <th>10</th>\n",
       "      <td>level_completed_tiple_reward</td>\n",
       "      <td>8765004</td>\n",
       "    </tr>\n",
       "    <tr>\n",
       "      <th>11</th>\n",
       "      <td>piggy_bank_1_offer</td>\n",
       "      <td>92780</td>\n",
       "    </tr>\n",
       "    <tr>\n",
       "      <th>12</th>\n",
       "      <td>professional_investigator</td>\n",
       "      <td>812000</td>\n",
       "    </tr>\n",
       "    <tr>\n",
       "      <th>13</th>\n",
       "      <td>special_offer</td>\n",
       "      <td>135000</td>\n",
       "    </tr>\n",
       "    <tr>\n",
       "      <th>14</th>\n",
       "      <td>the_goat</td>\n",
       "      <td>17160000</td>\n",
       "    </tr>\n",
       "  </tbody>\n",
       "</table>\n",
       "</div>"
      ],
      "text/plain": [
       "                    reward_reason     coins\n",
       "0                      case_1_OTP    292500\n",
       "1            case_1_special_offer    216000\n",
       "2                       coin_1000     60000\n",
       "3                      coin_10000     50000\n",
       "4                     coin_100000   3625000\n",
       "5                       coin_5000     30000\n",
       "6           csi_professional_pack    180000\n",
       "7                 csi_starter_kit    819000\n",
       "8                 level_completed  62934147\n",
       "9   level_completed_double_reward   3579232\n",
       "10   level_completed_tiple_reward   8765004\n",
       "11             piggy_bank_1_offer     92780\n",
       "12      professional_investigator    812000\n",
       "13                  special_offer    135000\n",
       "14                       the_goat  17160000"
      ]
     },
     "execution_count": 72,
     "metadata": {},
     "output_type": "execute_result"
    }
   ],
   "source": [
    "coins"
   ]
  },
  {
   "cell_type": "code",
   "execution_count": 3,
   "metadata": {},
   "outputs": [],
   "source": [
    "import pandas as pd\n",
    "from helpers.funnel_helper import *\n",
    "path = './data/funnel/funnel.csv'\n",
    "df=pd.read_csv(path)\n",
    "max_users = df.users.max()\n",
    "df['Users Percentage %'] = df['users'].apply(lambda x: round(100* (x/max_users) ,2))\n",
    "df['Step'] = df.apply(lambda x: create_funnel_step(x),axis=1)"
   ]
  },
  {
   "cell_type": "code",
   "execution_count": 2,
   "metadata": {},
   "outputs": [
    {
     "ename": "NameError",
     "evalue": "name 'df' is not defined",
     "output_type": "error",
     "traceback": [
      "\u001b[1;31m---------------------------------------------------------------------------\u001b[0m",
      "\u001b[1;31mNameError\u001b[0m                                 Traceback (most recent call last)",
      "Cell \u001b[1;32mIn[2], line 4\u001b[0m\n\u001b[0;32m      1\u001b[0m \u001b[38;5;28;01mimport\u001b[39;00m \u001b[38;5;21;01mnumpy\u001b[39;00m \u001b[38;5;28;01mas\u001b[39;00m \u001b[38;5;21;01mnp\u001b[39;00m\n\u001b[0;32m      2\u001b[0m \u001b[38;5;28;01mimport\u001b[39;00m \u001b[38;5;21;01mplotly\u001b[39;00m\u001b[38;5;21;01m.\u001b[39;00m\u001b[38;5;21;01mexpress\u001b[39;00m \u001b[38;5;28;01mas\u001b[39;00m \u001b[38;5;21;01mpx\u001b[39;00m\n\u001b[1;32m----> 4\u001b[0m df \u001b[38;5;241m=\u001b[39m \u001b[43mdf\u001b[49m[df\u001b[38;5;241m.\u001b[39mevent\u001b[38;5;241m.\u001b[39misin([\u001b[38;5;124m'\u001b[39m\u001b[38;5;124mlevel:started\u001b[39m\u001b[38;5;124m'\u001b[39m,\u001b[38;5;124m'\u001b[39m\u001b[38;5;124mbutton:clicked\u001b[39m\u001b[38;5;124m'\u001b[39m, \u001b[38;5;124m'\u001b[39m\u001b[38;5;124mapp:init:completed\u001b[39m\u001b[38;5;124m'\u001b[39m,\u001b[38;5;124m'\u001b[39m\u001b[38;5;124mlevel:completed\u001b[39m\u001b[38;5;124m'\u001b[39m]) \u001b[38;5;241m&\u001b[39m df\u001b[38;5;241m.\u001b[39mfeature\u001b[38;5;241m.\u001b[39misin([np\u001b[38;5;241m.\u001b[39mnan, \u001b[38;5;124m'\u001b[39m\u001b[38;5;124mtutorial\u001b[39m\u001b[38;5;124m'\u001b[39m, \u001b[38;5;124m'\u001b[39m\u001b[38;5;124mgameplay_tutorial\u001b[39m\u001b[38;5;124m'\u001b[39m])]\u001b[38;5;241m.\u001b[39msort_values(\u001b[38;5;124m'\u001b[39m\u001b[38;5;124musers\u001b[39m\u001b[38;5;124m'\u001b[39m,ascending\u001b[38;5;241m=\u001b[39m\u001b[38;5;28;01mFalse\u001b[39;00m)\n\u001b[0;32m      5\u001b[0m fig \u001b[38;5;241m=\u001b[39m px\u001b[38;5;241m.\u001b[39mfunnel(df\u001b[38;5;241m.\u001b[39mhead(\u001b[38;5;241m1000\u001b[39m), x\u001b[38;5;241m=\u001b[39m\u001b[38;5;124m'\u001b[39m\u001b[38;5;124mUsers Percentage \u001b[39m\u001b[38;5;124m%\u001b[39m\u001b[38;5;124m'\u001b[39m, y\u001b[38;5;241m=\u001b[39m\u001b[38;5;124m'\u001b[39m\u001b[38;5;124mStep\u001b[39m\u001b[38;5;124m'\u001b[39m)\n\u001b[0;32m      6\u001b[0m fig\u001b[38;5;241m.\u001b[39mshow()\n",
      "\u001b[1;31mNameError\u001b[0m: name 'df' is not defined"
     ]
    }
   ],
   "source": [
    "import numpy as np\n",
    "import plotly.express as px\n",
    "\n",
    "df = df[df.event.isin(['level:started','button:clicked', 'app:init:completed','level:completed']) & df.feature.isin([np.nan, 'tutorial', 'gameplay_tutorial'])].sort_values('users',ascending=False)\n",
    "fig = px.funnel(df.head(1000), x='Users Percentage %', y='Step')\n",
    "fig.show()"
   ]
  },
  {
   "cell_type": "code",
   "execution_count": 18,
   "metadata": {},
   "outputs": [
    {
     "data": {
      "application/vnd.plotly.v1+json": {
       "config": {
        "plotlyServerURL": "https://plot.ly"
       },
       "data": [
        {
         "hovertemplate": "Users Percentage %=%{x}<br>Step=%{y}<extra></extra>",
         "legendgroup": "",
         "marker": {
          "color": "#636efa"
         },
         "name": "",
         "orientation": "h",
         "showlegend": false,
         "type": "funnel",
         "x": [
          100,
          97.2,
          96.31,
          94.78,
          92.85,
          92.72,
          88.87,
          88.74,
          0.02,
          0.02,
          0.01,
          0.01,
          0.01,
          0.01,
          87.8,
          8.62,
          1.73,
          0.06,
          0.06,
          0.04
         ],
         "xaxis": "x",
         "y": [
          "app:init:completed_level_1",
          "tutorial_step_complete_intro_meta_level_1",
          "tutorial_step_complete_intro_meta_2_level_1",
          "level:started_level_1",
          "gameplay_tutorial_step_complete_BasicMatch_level_1",
          "gameplay_tutorial_step_complete_BasicObjective_level_1",
          "tutorial_step_complete_intro_meta_3_level_1",
          "tutorial_step_complete_open_first_clue_level_1",
          "tutorial_step_complete_unlock_piggy_4_level_1",
          "tutorial_step_complete_unlock_piggy_7_level_1",
          "tutorial_step_complete_purchase_piggy_level_1",
          "gameplay_tutorial_step_complete_BasicMatch_Main_level_1",
          "tutorial_step_complete_unlock_piggy_3_level_1",
          "tutorial_step_complete_purchase_piggy_2_level_1",
          "level:started_level_2",
          "app:init:completed_level_2",
          "tutorial_step_complete_open_first_clue_level_2",
          "tutorial_step_complete_intro_meta_3_level_2",
          "tutorial_step_complete_intro_meta_level_2",
          "tutorial_step_complete_intro_meta_2_level_2"
         ],
         "yaxis": "y"
        }
       ],
       "layout": {
        "legend": {
         "tracegroupgap": 0
        },
        "margin": {
         "t": 60
        },
        "template": {
         "data": {
          "bar": [
           {
            "error_x": {
             "color": "#2a3f5f"
            },
            "error_y": {
             "color": "#2a3f5f"
            },
            "marker": {
             "line": {
              "color": "#E5ECF6",
              "width": 0.5
             },
             "pattern": {
              "fillmode": "overlay",
              "size": 10,
              "solidity": 0.2
             }
            },
            "type": "bar"
           }
          ],
          "barpolar": [
           {
            "marker": {
             "line": {
              "color": "#E5ECF6",
              "width": 0.5
             },
             "pattern": {
              "fillmode": "overlay",
              "size": 10,
              "solidity": 0.2
             }
            },
            "type": "barpolar"
           }
          ],
          "carpet": [
           {
            "aaxis": {
             "endlinecolor": "#2a3f5f",
             "gridcolor": "white",
             "linecolor": "white",
             "minorgridcolor": "white",
             "startlinecolor": "#2a3f5f"
            },
            "baxis": {
             "endlinecolor": "#2a3f5f",
             "gridcolor": "white",
             "linecolor": "white",
             "minorgridcolor": "white",
             "startlinecolor": "#2a3f5f"
            },
            "type": "carpet"
           }
          ],
          "choropleth": [
           {
            "colorbar": {
             "outlinewidth": 0,
             "ticks": ""
            },
            "type": "choropleth"
           }
          ],
          "contour": [
           {
            "colorbar": {
             "outlinewidth": 0,
             "ticks": ""
            },
            "colorscale": [
             [
              0,
              "#0d0887"
             ],
             [
              0.1111111111111111,
              "#46039f"
             ],
             [
              0.2222222222222222,
              "#7201a8"
             ],
             [
              0.3333333333333333,
              "#9c179e"
             ],
             [
              0.4444444444444444,
              "#bd3786"
             ],
             [
              0.5555555555555556,
              "#d8576b"
             ],
             [
              0.6666666666666666,
              "#ed7953"
             ],
             [
              0.7777777777777778,
              "#fb9f3a"
             ],
             [
              0.8888888888888888,
              "#fdca26"
             ],
             [
              1,
              "#f0f921"
             ]
            ],
            "type": "contour"
           }
          ],
          "contourcarpet": [
           {
            "colorbar": {
             "outlinewidth": 0,
             "ticks": ""
            },
            "type": "contourcarpet"
           }
          ],
          "heatmap": [
           {
            "colorbar": {
             "outlinewidth": 0,
             "ticks": ""
            },
            "colorscale": [
             [
              0,
              "#0d0887"
             ],
             [
              0.1111111111111111,
              "#46039f"
             ],
             [
              0.2222222222222222,
              "#7201a8"
             ],
             [
              0.3333333333333333,
              "#9c179e"
             ],
             [
              0.4444444444444444,
              "#bd3786"
             ],
             [
              0.5555555555555556,
              "#d8576b"
             ],
             [
              0.6666666666666666,
              "#ed7953"
             ],
             [
              0.7777777777777778,
              "#fb9f3a"
             ],
             [
              0.8888888888888888,
              "#fdca26"
             ],
             [
              1,
              "#f0f921"
             ]
            ],
            "type": "heatmap"
           }
          ],
          "heatmapgl": [
           {
            "colorbar": {
             "outlinewidth": 0,
             "ticks": ""
            },
            "colorscale": [
             [
              0,
              "#0d0887"
             ],
             [
              0.1111111111111111,
              "#46039f"
             ],
             [
              0.2222222222222222,
              "#7201a8"
             ],
             [
              0.3333333333333333,
              "#9c179e"
             ],
             [
              0.4444444444444444,
              "#bd3786"
             ],
             [
              0.5555555555555556,
              "#d8576b"
             ],
             [
              0.6666666666666666,
              "#ed7953"
             ],
             [
              0.7777777777777778,
              "#fb9f3a"
             ],
             [
              0.8888888888888888,
              "#fdca26"
             ],
             [
              1,
              "#f0f921"
             ]
            ],
            "type": "heatmapgl"
           }
          ],
          "histogram": [
           {
            "marker": {
             "pattern": {
              "fillmode": "overlay",
              "size": 10,
              "solidity": 0.2
             }
            },
            "type": "histogram"
           }
          ],
          "histogram2d": [
           {
            "colorbar": {
             "outlinewidth": 0,
             "ticks": ""
            },
            "colorscale": [
             [
              0,
              "#0d0887"
             ],
             [
              0.1111111111111111,
              "#46039f"
             ],
             [
              0.2222222222222222,
              "#7201a8"
             ],
             [
              0.3333333333333333,
              "#9c179e"
             ],
             [
              0.4444444444444444,
              "#bd3786"
             ],
             [
              0.5555555555555556,
              "#d8576b"
             ],
             [
              0.6666666666666666,
              "#ed7953"
             ],
             [
              0.7777777777777778,
              "#fb9f3a"
             ],
             [
              0.8888888888888888,
              "#fdca26"
             ],
             [
              1,
              "#f0f921"
             ]
            ],
            "type": "histogram2d"
           }
          ],
          "histogram2dcontour": [
           {
            "colorbar": {
             "outlinewidth": 0,
             "ticks": ""
            },
            "colorscale": [
             [
              0,
              "#0d0887"
             ],
             [
              0.1111111111111111,
              "#46039f"
             ],
             [
              0.2222222222222222,
              "#7201a8"
             ],
             [
              0.3333333333333333,
              "#9c179e"
             ],
             [
              0.4444444444444444,
              "#bd3786"
             ],
             [
              0.5555555555555556,
              "#d8576b"
             ],
             [
              0.6666666666666666,
              "#ed7953"
             ],
             [
              0.7777777777777778,
              "#fb9f3a"
             ],
             [
              0.8888888888888888,
              "#fdca26"
             ],
             [
              1,
              "#f0f921"
             ]
            ],
            "type": "histogram2dcontour"
           }
          ],
          "mesh3d": [
           {
            "colorbar": {
             "outlinewidth": 0,
             "ticks": ""
            },
            "type": "mesh3d"
           }
          ],
          "parcoords": [
           {
            "line": {
             "colorbar": {
              "outlinewidth": 0,
              "ticks": ""
             }
            },
            "type": "parcoords"
           }
          ],
          "pie": [
           {
            "automargin": true,
            "type": "pie"
           }
          ],
          "scatter": [
           {
            "fillpattern": {
             "fillmode": "overlay",
             "size": 10,
             "solidity": 0.2
            },
            "type": "scatter"
           }
          ],
          "scatter3d": [
           {
            "line": {
             "colorbar": {
              "outlinewidth": 0,
              "ticks": ""
             }
            },
            "marker": {
             "colorbar": {
              "outlinewidth": 0,
              "ticks": ""
             }
            },
            "type": "scatter3d"
           }
          ],
          "scattercarpet": [
           {
            "marker": {
             "colorbar": {
              "outlinewidth": 0,
              "ticks": ""
             }
            },
            "type": "scattercarpet"
           }
          ],
          "scattergeo": [
           {
            "marker": {
             "colorbar": {
              "outlinewidth": 0,
              "ticks": ""
             }
            },
            "type": "scattergeo"
           }
          ],
          "scattergl": [
           {
            "marker": {
             "colorbar": {
              "outlinewidth": 0,
              "ticks": ""
             }
            },
            "type": "scattergl"
           }
          ],
          "scattermapbox": [
           {
            "marker": {
             "colorbar": {
              "outlinewidth": 0,
              "ticks": ""
             }
            },
            "type": "scattermapbox"
           }
          ],
          "scatterpolar": [
           {
            "marker": {
             "colorbar": {
              "outlinewidth": 0,
              "ticks": ""
             }
            },
            "type": "scatterpolar"
           }
          ],
          "scatterpolargl": [
           {
            "marker": {
             "colorbar": {
              "outlinewidth": 0,
              "ticks": ""
             }
            },
            "type": "scatterpolargl"
           }
          ],
          "scatterternary": [
           {
            "marker": {
             "colorbar": {
              "outlinewidth": 0,
              "ticks": ""
             }
            },
            "type": "scatterternary"
           }
          ],
          "surface": [
           {
            "colorbar": {
             "outlinewidth": 0,
             "ticks": ""
            },
            "colorscale": [
             [
              0,
              "#0d0887"
             ],
             [
              0.1111111111111111,
              "#46039f"
             ],
             [
              0.2222222222222222,
              "#7201a8"
             ],
             [
              0.3333333333333333,
              "#9c179e"
             ],
             [
              0.4444444444444444,
              "#bd3786"
             ],
             [
              0.5555555555555556,
              "#d8576b"
             ],
             [
              0.6666666666666666,
              "#ed7953"
             ],
             [
              0.7777777777777778,
              "#fb9f3a"
             ],
             [
              0.8888888888888888,
              "#fdca26"
             ],
             [
              1,
              "#f0f921"
             ]
            ],
            "type": "surface"
           }
          ],
          "table": [
           {
            "cells": {
             "fill": {
              "color": "#EBF0F8"
             },
             "line": {
              "color": "white"
             }
            },
            "header": {
             "fill": {
              "color": "#C8D4E3"
             },
             "line": {
              "color": "white"
             }
            },
            "type": "table"
           }
          ]
         },
         "layout": {
          "annotationdefaults": {
           "arrowcolor": "#2a3f5f",
           "arrowhead": 0,
           "arrowwidth": 1
          },
          "autotypenumbers": "strict",
          "coloraxis": {
           "colorbar": {
            "outlinewidth": 0,
            "ticks": ""
           }
          },
          "colorscale": {
           "diverging": [
            [
             0,
             "#8e0152"
            ],
            [
             0.1,
             "#c51b7d"
            ],
            [
             0.2,
             "#de77ae"
            ],
            [
             0.3,
             "#f1b6da"
            ],
            [
             0.4,
             "#fde0ef"
            ],
            [
             0.5,
             "#f7f7f7"
            ],
            [
             0.6,
             "#e6f5d0"
            ],
            [
             0.7,
             "#b8e186"
            ],
            [
             0.8,
             "#7fbc41"
            ],
            [
             0.9,
             "#4d9221"
            ],
            [
             1,
             "#276419"
            ]
           ],
           "sequential": [
            [
             0,
             "#0d0887"
            ],
            [
             0.1111111111111111,
             "#46039f"
            ],
            [
             0.2222222222222222,
             "#7201a8"
            ],
            [
             0.3333333333333333,
             "#9c179e"
            ],
            [
             0.4444444444444444,
             "#bd3786"
            ],
            [
             0.5555555555555556,
             "#d8576b"
            ],
            [
             0.6666666666666666,
             "#ed7953"
            ],
            [
             0.7777777777777778,
             "#fb9f3a"
            ],
            [
             0.8888888888888888,
             "#fdca26"
            ],
            [
             1,
             "#f0f921"
            ]
           ],
           "sequentialminus": [
            [
             0,
             "#0d0887"
            ],
            [
             0.1111111111111111,
             "#46039f"
            ],
            [
             0.2222222222222222,
             "#7201a8"
            ],
            [
             0.3333333333333333,
             "#9c179e"
            ],
            [
             0.4444444444444444,
             "#bd3786"
            ],
            [
             0.5555555555555556,
             "#d8576b"
            ],
            [
             0.6666666666666666,
             "#ed7953"
            ],
            [
             0.7777777777777778,
             "#fb9f3a"
            ],
            [
             0.8888888888888888,
             "#fdca26"
            ],
            [
             1,
             "#f0f921"
            ]
           ]
          },
          "colorway": [
           "#636efa",
           "#EF553B",
           "#00cc96",
           "#ab63fa",
           "#FFA15A",
           "#19d3f3",
           "#FF6692",
           "#B6E880",
           "#FF97FF",
           "#FECB52"
          ],
          "font": {
           "color": "#2a3f5f"
          },
          "geo": {
           "bgcolor": "white",
           "lakecolor": "white",
           "landcolor": "#E5ECF6",
           "showlakes": true,
           "showland": true,
           "subunitcolor": "white"
          },
          "hoverlabel": {
           "align": "left"
          },
          "hovermode": "closest",
          "mapbox": {
           "style": "light"
          },
          "paper_bgcolor": "white",
          "plot_bgcolor": "#E5ECF6",
          "polar": {
           "angularaxis": {
            "gridcolor": "white",
            "linecolor": "white",
            "ticks": ""
           },
           "bgcolor": "#E5ECF6",
           "radialaxis": {
            "gridcolor": "white",
            "linecolor": "white",
            "ticks": ""
           }
          },
          "scene": {
           "xaxis": {
            "backgroundcolor": "#E5ECF6",
            "gridcolor": "white",
            "gridwidth": 2,
            "linecolor": "white",
            "showbackground": true,
            "ticks": "",
            "zerolinecolor": "white"
           },
           "yaxis": {
            "backgroundcolor": "#E5ECF6",
            "gridcolor": "white",
            "gridwidth": 2,
            "linecolor": "white",
            "showbackground": true,
            "ticks": "",
            "zerolinecolor": "white"
           },
           "zaxis": {
            "backgroundcolor": "#E5ECF6",
            "gridcolor": "white",
            "gridwidth": 2,
            "linecolor": "white",
            "showbackground": true,
            "ticks": "",
            "zerolinecolor": "white"
           }
          },
          "shapedefaults": {
           "line": {
            "color": "#2a3f5f"
           }
          },
          "ternary": {
           "aaxis": {
            "gridcolor": "white",
            "linecolor": "white",
            "ticks": ""
           },
           "baxis": {
            "gridcolor": "white",
            "linecolor": "white",
            "ticks": ""
           },
           "bgcolor": "#E5ECF6",
           "caxis": {
            "gridcolor": "white",
            "linecolor": "white",
            "ticks": ""
           }
          },
          "title": {
           "x": 0.05
          },
          "xaxis": {
           "automargin": true,
           "gridcolor": "white",
           "linecolor": "white",
           "ticks": "",
           "title": {
            "standoff": 15
           },
           "zerolinecolor": "white",
           "zerolinewidth": 2
          },
          "yaxis": {
           "automargin": true,
           "gridcolor": "white",
           "linecolor": "white",
           "ticks": "",
           "title": {
            "standoff": 15
           },
           "zerolinecolor": "white",
           "zerolinewidth": 2
          }
         }
        },
        "xaxis": {
         "anchor": "y",
         "domain": [
          0,
          1
         ],
         "title": {
          "text": "Users Percentage %"
         }
        },
        "yaxis": {
         "anchor": "x",
         "domain": [
          0,
          1
         ],
         "title": {
          "text": "Step"
         }
        }
       }
      },
      "text/html": [
       "<div>                            <div id=\"4ffb27b0-28e9-44df-aa79-7dccb8339d4d\" class=\"plotly-graph-div\" style=\"height:525px; width:100%;\"></div>            <script type=\"text/javascript\">                require([\"plotly\"], function(Plotly) {                    window.PLOTLYENV=window.PLOTLYENV || {};                                    if (document.getElementById(\"4ffb27b0-28e9-44df-aa79-7dccb8339d4d\")) {                    Plotly.newPlot(                        \"4ffb27b0-28e9-44df-aa79-7dccb8339d4d\",                        [{\"hovertemplate\":\"Users Percentage %=%{x}<br>Step=%{y}<extra></extra>\",\"legendgroup\":\"\",\"marker\":{\"color\":\"#636efa\"},\"name\":\"\",\"orientation\":\"h\",\"showlegend\":false,\"x\":[100.0,97.2,96.31,94.78,92.85,92.72,88.87,88.74,0.02,0.02,0.01,0.01,0.01,0.01,87.8,8.62,1.73,0.06,0.06,0.04],\"xaxis\":\"x\",\"y\":[\"app:init:completed_level_1\",\"tutorial_step_complete_intro_meta_level_1\",\"tutorial_step_complete_intro_meta_2_level_1\",\"level:started_level_1\",\"gameplay_tutorial_step_complete_BasicMatch_level_1\",\"gameplay_tutorial_step_complete_BasicObjective_level_1\",\"tutorial_step_complete_intro_meta_3_level_1\",\"tutorial_step_complete_open_first_clue_level_1\",\"tutorial_step_complete_unlock_piggy_4_level_1\",\"tutorial_step_complete_unlock_piggy_7_level_1\",\"tutorial_step_complete_purchase_piggy_level_1\",\"gameplay_tutorial_step_complete_BasicMatch_Main_level_1\",\"tutorial_step_complete_unlock_piggy_3_level_1\",\"tutorial_step_complete_purchase_piggy_2_level_1\",\"level:started_level_2\",\"app:init:completed_level_2\",\"tutorial_step_complete_open_first_clue_level_2\",\"tutorial_step_complete_intro_meta_3_level_2\",\"tutorial_step_complete_intro_meta_level_2\",\"tutorial_step_complete_intro_meta_2_level_2\"],\"yaxis\":\"y\",\"type\":\"funnel\"}],                        {\"template\":{\"data\":{\"histogram2dcontour\":[{\"type\":\"histogram2dcontour\",\"colorbar\":{\"outlinewidth\":0,\"ticks\":\"\"},\"colorscale\":[[0.0,\"#0d0887\"],[0.1111111111111111,\"#46039f\"],[0.2222222222222222,\"#7201a8\"],[0.3333333333333333,\"#9c179e\"],[0.4444444444444444,\"#bd3786\"],[0.5555555555555556,\"#d8576b\"],[0.6666666666666666,\"#ed7953\"],[0.7777777777777778,\"#fb9f3a\"],[0.8888888888888888,\"#fdca26\"],[1.0,\"#f0f921\"]]}],\"choropleth\":[{\"type\":\"choropleth\",\"colorbar\":{\"outlinewidth\":0,\"ticks\":\"\"}}],\"histogram2d\":[{\"type\":\"histogram2d\",\"colorbar\":{\"outlinewidth\":0,\"ticks\":\"\"},\"colorscale\":[[0.0,\"#0d0887\"],[0.1111111111111111,\"#46039f\"],[0.2222222222222222,\"#7201a8\"],[0.3333333333333333,\"#9c179e\"],[0.4444444444444444,\"#bd3786\"],[0.5555555555555556,\"#d8576b\"],[0.6666666666666666,\"#ed7953\"],[0.7777777777777778,\"#fb9f3a\"],[0.8888888888888888,\"#fdca26\"],[1.0,\"#f0f921\"]]}],\"heatmap\":[{\"type\":\"heatmap\",\"colorbar\":{\"outlinewidth\":0,\"ticks\":\"\"},\"colorscale\":[[0.0,\"#0d0887\"],[0.1111111111111111,\"#46039f\"],[0.2222222222222222,\"#7201a8\"],[0.3333333333333333,\"#9c179e\"],[0.4444444444444444,\"#bd3786\"],[0.5555555555555556,\"#d8576b\"],[0.6666666666666666,\"#ed7953\"],[0.7777777777777778,\"#fb9f3a\"],[0.8888888888888888,\"#fdca26\"],[1.0,\"#f0f921\"]]}],\"heatmapgl\":[{\"type\":\"heatmapgl\",\"colorbar\":{\"outlinewidth\":0,\"ticks\":\"\"},\"colorscale\":[[0.0,\"#0d0887\"],[0.1111111111111111,\"#46039f\"],[0.2222222222222222,\"#7201a8\"],[0.3333333333333333,\"#9c179e\"],[0.4444444444444444,\"#bd3786\"],[0.5555555555555556,\"#d8576b\"],[0.6666666666666666,\"#ed7953\"],[0.7777777777777778,\"#fb9f3a\"],[0.8888888888888888,\"#fdca26\"],[1.0,\"#f0f921\"]]}],\"contourcarpet\":[{\"type\":\"contourcarpet\",\"colorbar\":{\"outlinewidth\":0,\"ticks\":\"\"}}],\"contour\":[{\"type\":\"contour\",\"colorbar\":{\"outlinewidth\":0,\"ticks\":\"\"},\"colorscale\":[[0.0,\"#0d0887\"],[0.1111111111111111,\"#46039f\"],[0.2222222222222222,\"#7201a8\"],[0.3333333333333333,\"#9c179e\"],[0.4444444444444444,\"#bd3786\"],[0.5555555555555556,\"#d8576b\"],[0.6666666666666666,\"#ed7953\"],[0.7777777777777778,\"#fb9f3a\"],[0.8888888888888888,\"#fdca26\"],[1.0,\"#f0f921\"]]}],\"surface\":[{\"type\":\"surface\",\"colorbar\":{\"outlinewidth\":0,\"ticks\":\"\"},\"colorscale\":[[0.0,\"#0d0887\"],[0.1111111111111111,\"#46039f\"],[0.2222222222222222,\"#7201a8\"],[0.3333333333333333,\"#9c179e\"],[0.4444444444444444,\"#bd3786\"],[0.5555555555555556,\"#d8576b\"],[0.6666666666666666,\"#ed7953\"],[0.7777777777777778,\"#fb9f3a\"],[0.8888888888888888,\"#fdca26\"],[1.0,\"#f0f921\"]]}],\"mesh3d\":[{\"type\":\"mesh3d\",\"colorbar\":{\"outlinewidth\":0,\"ticks\":\"\"}}],\"scatter\":[{\"fillpattern\":{\"fillmode\":\"overlay\",\"size\":10,\"solidity\":0.2},\"type\":\"scatter\"}],\"parcoords\":[{\"type\":\"parcoords\",\"line\":{\"colorbar\":{\"outlinewidth\":0,\"ticks\":\"\"}}}],\"scatterpolargl\":[{\"type\":\"scatterpolargl\",\"marker\":{\"colorbar\":{\"outlinewidth\":0,\"ticks\":\"\"}}}],\"bar\":[{\"error_x\":{\"color\":\"#2a3f5f\"},\"error_y\":{\"color\":\"#2a3f5f\"},\"marker\":{\"line\":{\"color\":\"#E5ECF6\",\"width\":0.5},\"pattern\":{\"fillmode\":\"overlay\",\"size\":10,\"solidity\":0.2}},\"type\":\"bar\"}],\"scattergeo\":[{\"type\":\"scattergeo\",\"marker\":{\"colorbar\":{\"outlinewidth\":0,\"ticks\":\"\"}}}],\"scatterpolar\":[{\"type\":\"scatterpolar\",\"marker\":{\"colorbar\":{\"outlinewidth\":0,\"ticks\":\"\"}}}],\"histogram\":[{\"marker\":{\"pattern\":{\"fillmode\":\"overlay\",\"size\":10,\"solidity\":0.2}},\"type\":\"histogram\"}],\"scattergl\":[{\"type\":\"scattergl\",\"marker\":{\"colorbar\":{\"outlinewidth\":0,\"ticks\":\"\"}}}],\"scatter3d\":[{\"type\":\"scatter3d\",\"line\":{\"colorbar\":{\"outlinewidth\":0,\"ticks\":\"\"}},\"marker\":{\"colorbar\":{\"outlinewidth\":0,\"ticks\":\"\"}}}],\"scattermapbox\":[{\"type\":\"scattermapbox\",\"marker\":{\"colorbar\":{\"outlinewidth\":0,\"ticks\":\"\"}}}],\"scatterternary\":[{\"type\":\"scatterternary\",\"marker\":{\"colorbar\":{\"outlinewidth\":0,\"ticks\":\"\"}}}],\"scattercarpet\":[{\"type\":\"scattercarpet\",\"marker\":{\"colorbar\":{\"outlinewidth\":0,\"ticks\":\"\"}}}],\"carpet\":[{\"aaxis\":{\"endlinecolor\":\"#2a3f5f\",\"gridcolor\":\"white\",\"linecolor\":\"white\",\"minorgridcolor\":\"white\",\"startlinecolor\":\"#2a3f5f\"},\"baxis\":{\"endlinecolor\":\"#2a3f5f\",\"gridcolor\":\"white\",\"linecolor\":\"white\",\"minorgridcolor\":\"white\",\"startlinecolor\":\"#2a3f5f\"},\"type\":\"carpet\"}],\"table\":[{\"cells\":{\"fill\":{\"color\":\"#EBF0F8\"},\"line\":{\"color\":\"white\"}},\"header\":{\"fill\":{\"color\":\"#C8D4E3\"},\"line\":{\"color\":\"white\"}},\"type\":\"table\"}],\"barpolar\":[{\"marker\":{\"line\":{\"color\":\"#E5ECF6\",\"width\":0.5},\"pattern\":{\"fillmode\":\"overlay\",\"size\":10,\"solidity\":0.2}},\"type\":\"barpolar\"}],\"pie\":[{\"automargin\":true,\"type\":\"pie\"}]},\"layout\":{\"autotypenumbers\":\"strict\",\"colorway\":[\"#636efa\",\"#EF553B\",\"#00cc96\",\"#ab63fa\",\"#FFA15A\",\"#19d3f3\",\"#FF6692\",\"#B6E880\",\"#FF97FF\",\"#FECB52\"],\"font\":{\"color\":\"#2a3f5f\"},\"hovermode\":\"closest\",\"hoverlabel\":{\"align\":\"left\"},\"paper_bgcolor\":\"white\",\"plot_bgcolor\":\"#E5ECF6\",\"polar\":{\"bgcolor\":\"#E5ECF6\",\"angularaxis\":{\"gridcolor\":\"white\",\"linecolor\":\"white\",\"ticks\":\"\"},\"radialaxis\":{\"gridcolor\":\"white\",\"linecolor\":\"white\",\"ticks\":\"\"}},\"ternary\":{\"bgcolor\":\"#E5ECF6\",\"aaxis\":{\"gridcolor\":\"white\",\"linecolor\":\"white\",\"ticks\":\"\"},\"baxis\":{\"gridcolor\":\"white\",\"linecolor\":\"white\",\"ticks\":\"\"},\"caxis\":{\"gridcolor\":\"white\",\"linecolor\":\"white\",\"ticks\":\"\"}},\"coloraxis\":{\"colorbar\":{\"outlinewidth\":0,\"ticks\":\"\"}},\"colorscale\":{\"sequential\":[[0.0,\"#0d0887\"],[0.1111111111111111,\"#46039f\"],[0.2222222222222222,\"#7201a8\"],[0.3333333333333333,\"#9c179e\"],[0.4444444444444444,\"#bd3786\"],[0.5555555555555556,\"#d8576b\"],[0.6666666666666666,\"#ed7953\"],[0.7777777777777778,\"#fb9f3a\"],[0.8888888888888888,\"#fdca26\"],[1.0,\"#f0f921\"]],\"sequentialminus\":[[0.0,\"#0d0887\"],[0.1111111111111111,\"#46039f\"],[0.2222222222222222,\"#7201a8\"],[0.3333333333333333,\"#9c179e\"],[0.4444444444444444,\"#bd3786\"],[0.5555555555555556,\"#d8576b\"],[0.6666666666666666,\"#ed7953\"],[0.7777777777777778,\"#fb9f3a\"],[0.8888888888888888,\"#fdca26\"],[1.0,\"#f0f921\"]],\"diverging\":[[0,\"#8e0152\"],[0.1,\"#c51b7d\"],[0.2,\"#de77ae\"],[0.3,\"#f1b6da\"],[0.4,\"#fde0ef\"],[0.5,\"#f7f7f7\"],[0.6,\"#e6f5d0\"],[0.7,\"#b8e186\"],[0.8,\"#7fbc41\"],[0.9,\"#4d9221\"],[1,\"#276419\"]]},\"xaxis\":{\"gridcolor\":\"white\",\"linecolor\":\"white\",\"ticks\":\"\",\"title\":{\"standoff\":15},\"zerolinecolor\":\"white\",\"automargin\":true,\"zerolinewidth\":2},\"yaxis\":{\"gridcolor\":\"white\",\"linecolor\":\"white\",\"ticks\":\"\",\"title\":{\"standoff\":15},\"zerolinecolor\":\"white\",\"automargin\":true,\"zerolinewidth\":2},\"scene\":{\"xaxis\":{\"backgroundcolor\":\"#E5ECF6\",\"gridcolor\":\"white\",\"linecolor\":\"white\",\"showbackground\":true,\"ticks\":\"\",\"zerolinecolor\":\"white\",\"gridwidth\":2},\"yaxis\":{\"backgroundcolor\":\"#E5ECF6\",\"gridcolor\":\"white\",\"linecolor\":\"white\",\"showbackground\":true,\"ticks\":\"\",\"zerolinecolor\":\"white\",\"gridwidth\":2},\"zaxis\":{\"backgroundcolor\":\"#E5ECF6\",\"gridcolor\":\"white\",\"linecolor\":\"white\",\"showbackground\":true,\"ticks\":\"\",\"zerolinecolor\":\"white\",\"gridwidth\":2}},\"shapedefaults\":{\"line\":{\"color\":\"#2a3f5f\"}},\"annotationdefaults\":{\"arrowcolor\":\"#2a3f5f\",\"arrowhead\":0,\"arrowwidth\":1},\"geo\":{\"bgcolor\":\"white\",\"landcolor\":\"#E5ECF6\",\"subunitcolor\":\"white\",\"showland\":true,\"showlakes\":true,\"lakecolor\":\"white\"},\"title\":{\"x\":0.05},\"mapbox\":{\"style\":\"light\"}}},\"xaxis\":{\"anchor\":\"y\",\"domain\":[0.0,1.0],\"title\":{\"text\":\"Users Percentage %\"}},\"yaxis\":{\"anchor\":\"x\",\"domain\":[0.0,1.0],\"title\":{\"text\":\"Step\"}},\"legend\":{\"tracegroupgap\":0},\"margin\":{\"t\":60}},                        {\"responsive\": true}                    ).then(function(){\n",
       "                            \n",
       "var gd = document.getElementById('4ffb27b0-28e9-44df-aa79-7dccb8339d4d');\n",
       "var x = new MutationObserver(function (mutations, observer) {{\n",
       "        var display = window.getComputedStyle(gd).display;\n",
       "        if (!display || display === 'none') {{\n",
       "            console.log([gd, 'removed!']);\n",
       "            Plotly.purge(gd);\n",
       "            observer.disconnect();\n",
       "        }}\n",
       "}});\n",
       "\n",
       "// Listen for the removal of the full notebook cells\n",
       "var notebookContainer = gd.closest('#notebook-container');\n",
       "if (notebookContainer) {{\n",
       "    x.observe(notebookContainer, {childList: true});\n",
       "}}\n",
       "\n",
       "// Listen for the clearing of the current output cell\n",
       "var outputEl = gd.closest('.output');\n",
       "if (outputEl) {{\n",
       "    x.observe(outputEl, {childList: true});\n",
       "}}\n",
       "\n",
       "                        })                };                });            </script>        </div>"
      ]
     },
     "metadata": {},
     "output_type": "display_data"
    }
   ],
   "source": [
    "fig\n"
   ]
  },
  {
   "cell_type": "code",
   "execution_count": 10,
   "metadata": {},
   "outputs": [
    {
     "data": {
      "text/html": [
       "<div>\n",
       "<style scoped>\n",
       "    .dataframe tbody tr th:only-of-type {\n",
       "        vertical-align: middle;\n",
       "    }\n",
       "\n",
       "    .dataframe tbody tr th {\n",
       "        vertical-align: top;\n",
       "    }\n",
       "\n",
       "    .dataframe thead th {\n",
       "        text-align: right;\n",
       "    }\n",
       "</style>\n",
       "<table border=\"1\" class=\"dataframe\">\n",
       "  <thead>\n",
       "    <tr style=\"text-align: right;\">\n",
       "      <th></th>\n",
       "      <th>progress_id</th>\n",
       "      <th>install_date</th>\n",
       "      <th>ab_test_variants</th>\n",
       "      <th>n_days_active</th>\n",
       "      <th>n_levels</th>\n",
       "      <th>boosters_used</th>\n",
       "      <th>coins_used</th>\n",
       "      <th>n_purchases</th>\n",
       "      <th>ad_revenue</th>\n",
       "    </tr>\n",
       "  </thead>\n",
       "  <tbody>\n",
       "    <tr>\n",
       "      <th>0</th>\n",
       "      <td>0003616b-65c9-4774-b548-d84574a1a759</td>\n",
       "      <td>2024-02-16</td>\n",
       "      <td>Control</td>\n",
       "      <td>2</td>\n",
       "      <td>90</td>\n",
       "      <td>2</td>\n",
       "      <td>2800</td>\n",
       "      <td>0</td>\n",
       "      <td>1.027132</td>\n",
       "    </tr>\n",
       "    <tr>\n",
       "      <th>1</th>\n",
       "      <td>0009f46c-ba7a-4ab9-b613-ae8936d032eb</td>\n",
       "      <td>2023-11-21</td>\n",
       "      <td>Control</td>\n",
       "      <td>2</td>\n",
       "      <td>24</td>\n",
       "      <td>0</td>\n",
       "      <td>0</td>\n",
       "      <td>0</td>\n",
       "      <td>0.131149</td>\n",
       "    </tr>\n",
       "    <tr>\n",
       "      <th>2</th>\n",
       "      <td>00104466-9e95-4564-81fa-a880414cb983</td>\n",
       "      <td>2024-01-24</td>\n",
       "      <td>Variant A</td>\n",
       "      <td>1</td>\n",
       "      <td>1</td>\n",
       "      <td>0</td>\n",
       "      <td>0</td>\n",
       "      <td>0</td>\n",
       "      <td>0.000000</td>\n",
       "    </tr>\n",
       "    <tr>\n",
       "      <th>3</th>\n",
       "      <td>00169026-ac6d-4e6d-ac0a-5a3e9faef388</td>\n",
       "      <td>2024-01-06</td>\n",
       "      <td>Control</td>\n",
       "      <td>1</td>\n",
       "      <td>9</td>\n",
       "      <td>2</td>\n",
       "      <td>0</td>\n",
       "      <td>0</td>\n",
       "      <td>0.192693</td>\n",
       "    </tr>\n",
       "    <tr>\n",
       "      <th>4</th>\n",
       "      <td>001b62db-6ab6-4f92-ab3b-c9b22b54000c</td>\n",
       "      <td>2024-01-20</td>\n",
       "      <td>Variant A</td>\n",
       "      <td>1</td>\n",
       "      <td>2</td>\n",
       "      <td>0</td>\n",
       "      <td>0</td>\n",
       "      <td>0</td>\n",
       "      <td>0.014554</td>\n",
       "    </tr>\n",
       "    <tr>\n",
       "      <th>...</th>\n",
       "      <td>...</td>\n",
       "      <td>...</td>\n",
       "      <td>...</td>\n",
       "      <td>...</td>\n",
       "      <td>...</td>\n",
       "      <td>...</td>\n",
       "      <td>...</td>\n",
       "      <td>...</td>\n",
       "      <td>...</td>\n",
       "    </tr>\n",
       "    <tr>\n",
       "      <th>4261</th>\n",
       "      <td>ff67548b-854f-4bda-a0e3-ed888412bdfd</td>\n",
       "      <td>2024-01-21</td>\n",
       "      <td>Variant A</td>\n",
       "      <td>1</td>\n",
       "      <td>1</td>\n",
       "      <td>0</td>\n",
       "      <td>0</td>\n",
       "      <td>0</td>\n",
       "      <td>0.000000</td>\n",
       "    </tr>\n",
       "    <tr>\n",
       "      <th>4262</th>\n",
       "      <td>ff9819f7-b1ae-4c11-b973-00ac41160df1</td>\n",
       "      <td>2024-02-19</td>\n",
       "      <td>Control</td>\n",
       "      <td>2</td>\n",
       "      <td>4</td>\n",
       "      <td>0</td>\n",
       "      <td>0</td>\n",
       "      <td>0</td>\n",
       "      <td>0.000000</td>\n",
       "    </tr>\n",
       "    <tr>\n",
       "      <th>4263</th>\n",
       "      <td>ffba2695-8363-4eb7-9f4e-9220f38a3eb0</td>\n",
       "      <td>2024-02-16</td>\n",
       "      <td>Control</td>\n",
       "      <td>1</td>\n",
       "      <td>2</td>\n",
       "      <td>0</td>\n",
       "      <td>0</td>\n",
       "      <td>0</td>\n",
       "      <td>0.027455</td>\n",
       "    </tr>\n",
       "    <tr>\n",
       "      <th>4264</th>\n",
       "      <td>ffccc7dd-8f5a-4ab9-9691-99c89822ef27</td>\n",
       "      <td>2024-02-21</td>\n",
       "      <td>Variant A</td>\n",
       "      <td>1</td>\n",
       "      <td>36</td>\n",
       "      <td>2</td>\n",
       "      <td>1800</td>\n",
       "      <td>0</td>\n",
       "      <td>0.122819</td>\n",
       "    </tr>\n",
       "    <tr>\n",
       "      <th>4265</th>\n",
       "      <td>ffe4d416-a8c7-4b11-836b-fb7ef725aaab</td>\n",
       "      <td>2023-08-18</td>\n",
       "      <td>Control</td>\n",
       "      <td>1</td>\n",
       "      <td>2</td>\n",
       "      <td>0</td>\n",
       "      <td>0</td>\n",
       "      <td>0</td>\n",
       "      <td>0.029919</td>\n",
       "    </tr>\n",
       "  </tbody>\n",
       "</table>\n",
       "<p>4266 rows × 9 columns</p>\n",
       "</div>"
      ],
      "text/plain": [
       "                               progress_id install_date ab_test_variants  \\\n",
       "0     0003616b-65c9-4774-b548-d84574a1a759   2024-02-16          Control   \n",
       "1     0009f46c-ba7a-4ab9-b613-ae8936d032eb   2023-11-21          Control   \n",
       "2     00104466-9e95-4564-81fa-a880414cb983   2024-01-24        Variant A   \n",
       "3     00169026-ac6d-4e6d-ac0a-5a3e9faef388   2024-01-06          Control   \n",
       "4     001b62db-6ab6-4f92-ab3b-c9b22b54000c   2024-01-20        Variant A   \n",
       "...                                    ...          ...              ...   \n",
       "4261  ff67548b-854f-4bda-a0e3-ed888412bdfd   2024-01-21        Variant A   \n",
       "4262  ff9819f7-b1ae-4c11-b973-00ac41160df1   2024-02-19          Control   \n",
       "4263  ffba2695-8363-4eb7-9f4e-9220f38a3eb0   2024-02-16          Control   \n",
       "4264  ffccc7dd-8f5a-4ab9-9691-99c89822ef27   2024-02-21        Variant A   \n",
       "4265  ffe4d416-a8c7-4b11-836b-fb7ef725aaab   2023-08-18          Control   \n",
       "\n",
       "      n_days_active  n_levels  boosters_used  coins_used  n_purchases  \\\n",
       "0                 2        90              2        2800            0   \n",
       "1                 2        24              0           0            0   \n",
       "2                 1         1              0           0            0   \n",
       "3                 1         9              2           0            0   \n",
       "4                 1         2              0           0            0   \n",
       "...             ...       ...            ...         ...          ...   \n",
       "4261              1         1              0           0            0   \n",
       "4262              2         4              0           0            0   \n",
       "4263              1         2              0           0            0   \n",
       "4264              1        36              2        1800            0   \n",
       "4265              1         2              0           0            0   \n",
       "\n",
       "      ad_revenue  \n",
       "0       1.027132  \n",
       "1       0.131149  \n",
       "2       0.000000  \n",
       "3       0.192693  \n",
       "4       0.014554  \n",
       "...          ...  \n",
       "4261    0.000000  \n",
       "4262    0.000000  \n",
       "4263    0.027455  \n",
       "4264    0.122819  \n",
       "4265    0.029919  \n",
       "\n",
       "[4266 rows x 9 columns]"
      ]
     },
     "execution_count": 10,
     "metadata": {},
     "output_type": "execute_result"
    }
   ],
   "source": [
    "ab_test=pd.read_csv('./data/ab_test/ab_test.csv')\n",
    "ab_test = (ab_test\n",
    "           [['progress_id', 'install_date', 'ab_test_variants', 'n_days_active','n_levels', \n",
    "             'boosters_used', 'coins_used', 'n_purchases', 'ad_revenue']]\n",
    "           [ab_test.ab_test_variants\n",
    "            .isin(['Control', 'Variant A'])\n",
    "            ].reset_index(drop=True))\n",
    "\n",
    "control_size = ab_test[ab_test.ab_test_variants=='Control']['progress_id'].nunique()\n",
    "treatment_size = ab_test[ab_test.ab_test_variants=='Variant A']['progress_id'].nunique()\n",
    "\n"
   ]
  }
 ],
 "metadata": {
  "kernelspec": {
   "display_name": "Python 3 (ipykernel)",
   "language": "python",
   "name": "python3"
  },
  "language_info": {
   "codemirror_mode": {
    "name": "ipython",
    "version": 3
   },
   "file_extension": ".py",
   "mimetype": "text/x-python",
   "name": "python",
   "nbconvert_exporter": "python",
   "pygments_lexer": "ipython3",
   "version": "3.12.1"
  }
 },
 "nbformat": 4,
 "nbformat_minor": 2
}
